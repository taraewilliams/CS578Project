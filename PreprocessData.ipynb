{
 "cells": [
  {
   "cell_type": "code",
   "execution_count": 1,
   "metadata": {
    "collapsed": true
   },
   "outputs": [],
   "source": [
    "import preprocess_data as preprocessor"
   ]
  },
  {
   "cell_type": "code",
   "execution_count": 2,
   "metadata": {
    "collapsed": true
   },
   "outputs": [],
   "source": [
    "number_test_samples = 10000\n",
    "validation_percentage = 98\n",
    "group_number_test_samples = 10000\n",
    "group_validation_percentage = 80\n",
    "\n",
    "# Data Splitting\n",
    "# Creates two folders, MajorityVote and GroupedData, with data sets inside\n",
    "data, numerical_data, test_data, validation_data, training_data = preprocessor.preprocess_data(\"Data\", \"MajorityVote\", number_test_samples)\n",
    "preprocessor.select_data_sets(data, numerical_data, \"MajorityVote\", validation_percentage)\n",
    "preprocessor.preprocess_data_random(\"Data\", \"GroupedData\", group_number_test_samples, group_validation_percentage)"
   ]
  },
  {
   "cell_type": "code",
   "execution_count": null,
   "metadata": {
    "collapsed": true
   },
   "outputs": [],
   "source": []
  }
 ],
 "metadata": {
  "kernelspec": {
   "display_name": "Python 3",
   "language": "python",
   "name": "python3"
  },
  "language_info": {
   "codemirror_mode": {
    "name": "ipython",
    "version": 3
   },
   "file_extension": ".py",
   "mimetype": "text/x-python",
   "name": "python",
   "nbconvert_exporter": "python",
   "pygments_lexer": "ipython3",
   "version": "3.6.2"
  }
 },
 "nbformat": 4,
 "nbformat_minor": 2
}
