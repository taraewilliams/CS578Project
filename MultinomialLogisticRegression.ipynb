{
 "cells": [
  {
   "cell_type": "code",
   "execution_count": 21,
   "metadata": {
    "collapsed": true
   },
   "outputs": [],
   "source": [
    "import sklearn\n",
    "from sklearn.linear_model import LogisticRegression\n",
    "import pandas as pd\n",
    "import numpy as np"
   ]
  },
  {
   "cell_type": "markdown",
   "metadata": {},
   "source": [
    "# Multinomial Logistic Regression"
   ]
  },
  {
   "cell_type": "markdown",
   "metadata": {},
   "source": [
    "## Grouped Training Data"
   ]
  },
  {
   "cell_type": "code",
   "execution_count": 22,
   "metadata": {
    "collapsed": true
   },
   "outputs": [],
   "source": [
    "def load_shopping_data(directory, features=None, label_name=['TripType']):\n",
    "    data = pd.read_csv(directory)\n",
    "    label = data[label_name].values.ravel()\n",
    "    if features is None:\n",
    "        content = data.drop(label_name, axis=1)\n",
    "    else:\n",
    "        content = data[features].values\n",
    "    return content, label"
   ]
  },
  {
   "cell_type": "code",
   "execution_count": 30,
   "metadata": {
    "collapsed": true
   },
   "outputs": [],
   "source": [
    "#test_directory = \"GroupedData/train_random.csv\"\n",
    "#train_directory = \"GroupedData/test_random.csv\"\n",
    "#features = None\n",
    "\n",
    "features = [\"VisitNumber\",\"Weekday\",\"ScanCount\",\"DepartmentDescription\"]\n",
    "test_directory = \"MajorityVote/group_test.csv\"\n",
    "train_directory = \"MajorityVote/group_train.csv\"\n",
    "\n",
    "test_data, test_label = load_shopping_data(test_directory, features)\n",
    "train_data, train_label = load_shopping_data(train_directory, features)"
   ]
  },
  {
   "cell_type": "code",
   "execution_count": 31,
   "metadata": {
    "collapsed": true
   },
   "outputs": [],
   "source": [
    "logistic_regression = LogisticRegression(multi_class=\"multinomial\", solver=\"lbfgs\")"
   ]
  },
  {
   "cell_type": "code",
   "execution_count": 32,
   "metadata": {
    "collapsed": true
   },
   "outputs": [],
   "source": [
    "logistic_regression.fit(train_data, train_label)\n",
    "pred = logistic_regression.predict(test_data)"
   ]
  },
  {
   "cell_type": "code",
   "execution_count": 33,
   "metadata": {
    "collapsed": true
   },
   "outputs": [],
   "source": [
    "train_accuracy = logistic_regression.score(train_data, train_label)\n",
    "testing_accuracy = logistic_regression.score(test_data, test_label)"
   ]
  },
  {
   "cell_type": "code",
   "execution_count": 34,
   "metadata": {},
   "outputs": [
    {
     "name": "stdout",
     "output_type": "stream",
     "text": [
      "Training accuracy = 0.262017059709\n",
      "Testing accuracy =  0.24557190033\n"
     ]
    }
   ],
   "source": [
    "print('Training accuracy =', train_accuracy)\n",
    "print(\"Testing accuracy = \", testing_accuracy)"
   ]
  },
  {
   "cell_type": "markdown",
   "metadata": {},
   "source": [
    "## Stratified Training Data"
   ]
  },
  {
   "cell_type": "code",
   "execution_count": 35,
   "metadata": {
    "collapsed": true
   },
   "outputs": [],
   "source": [
    "train_directory = \"MajorityVote/train_numerical.csv\"\n",
    "#train_directory = \"GroupedData/train.csv\"\n",
    "\n",
    "train_data, train_label = load_shopping_data(train_directory, features)\n",
    "logistic_regression = LogisticRegression(multi_class=\"multinomial\", solver=\"lbfgs\")\n",
    "logistic_regression.fit(train_data, train_label)\n",
    "pred = logistic_regression.predict(test_data)"
   ]
  },
  {
   "cell_type": "code",
   "execution_count": 36,
   "metadata": {},
   "outputs": [
    {
     "name": "stdout",
     "output_type": "stream",
     "text": [
      "Training accuracy = 0.270597738288\n",
      "Testing accuracy =  0.24557190033\n"
     ]
    }
   ],
   "source": [
    "train_accuracy = logistic_regression.score(train_data, train_label)\n",
    "testing_accuracy = logistic_regression.score(test_data, test_label)\n",
    "print('Training accuracy =', train_accuracy)\n",
    "print(\"Testing accuracy = \", testing_accuracy)"
   ]
  },
  {
   "cell_type": "code",
   "execution_count": null,
   "metadata": {
    "collapsed": true
   },
   "outputs": [],
   "source": []
  }
 ],
 "metadata": {
  "kernelspec": {
   "display_name": "Python 3",
   "language": "python",
   "name": "python3"
  },
  "language_info": {
   "codemirror_mode": {
    "name": "ipython",
    "version": 3
   },
   "file_extension": ".py",
   "mimetype": "text/x-python",
   "name": "python",
   "nbconvert_exporter": "python",
   "pygments_lexer": "ipython3",
   "version": "3.6.2"
  }
 },
 "nbformat": 4,
 "nbformat_minor": 2
}
