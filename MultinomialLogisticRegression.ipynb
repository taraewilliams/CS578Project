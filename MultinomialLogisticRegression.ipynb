{
 "cells": [
  {
   "cell_type": "code",
   "execution_count": 12,
   "metadata": {
    "collapsed": true
   },
   "outputs": [],
   "source": [
    "import sklearn\n",
    "from sklearn.linear_model import LogisticRegression\n",
    "import pandas as pd\n",
    "import numpy as np"
   ]
  },
  {
   "cell_type": "markdown",
   "metadata": {},
   "source": [
    "# Multinomial Logistic Regression"
   ]
  },
  {
   "cell_type": "markdown",
   "metadata": {},
   "source": [
    "## Grouped Training Data"
   ]
  },
  {
   "cell_type": "code",
   "execution_count": 13,
   "metadata": {
    "collapsed": true
   },
   "outputs": [],
   "source": [
    "def load_shopping_data(directory, features=None, label_name=['TripType']):\n",
    "    data = pd.read_csv(directory)\n",
    "    label = data[label_name].values.ravel()\n",
    "    if features is None:\n",
    "        content = data.drop(label_name, axis=1)\n",
    "    else:\n",
    "        content = data[features].values\n",
    "    return content, label"
   ]
  },
  {
   "cell_type": "code",
   "execution_count": 14,
   "metadata": {},
   "outputs": [],
   "source": [
    "test_data, test_label = load_shopping_data(\"CleanData/test_random.csv\")\n",
    "train_data, train_label = load_shopping_data(\"CleanData/train_random.csv\")"
   ]
  },
  {
   "cell_type": "code",
   "execution_count": 15,
   "metadata": {
    "collapsed": true
   },
   "outputs": [],
   "source": [
    "logistic_regression = LogisticRegression(multi_class=\"multinomial\", solver=\"lbfgs\")"
   ]
  },
  {
   "cell_type": "code",
   "execution_count": 16,
   "metadata": {
    "collapsed": true
   },
   "outputs": [],
   "source": [
    "logistic_regression.fit(train_data, train_label)\n",
    "pred = logistic_regression.predict(test_data)"
   ]
  },
  {
   "cell_type": "code",
   "execution_count": 17,
   "metadata": {
    "collapsed": true
   },
   "outputs": [],
   "source": [
    "train_accuracy = logistic_regression.score(train_data, train_label)\n",
    "testing_accuracy = logistic_regression.score(test_data, test_label)"
   ]
  },
  {
   "cell_type": "code",
   "execution_count": 18,
   "metadata": {},
   "outputs": [
    {
     "name": "stdout",
     "output_type": "stream",
     "text": [
      "Training accuracy = 0.2167\n",
      "Testing accuracy =  0.2177\n"
     ]
    }
   ],
   "source": [
    "print('Training accuracy =', train_accuracy)\n",
    "print(\"Testing accuracy = \", testing_accuracy)"
   ]
  },
  {
   "cell_type": "markdown",
   "metadata": {},
   "source": [
    "## Stratified Training Data"
   ]
  },
  {
   "cell_type": "code",
   "execution_count": 19,
   "metadata": {
    "collapsed": true
   },
   "outputs": [],
   "source": [
    "train_data, train_label = load_shopping_data(\"CleanData/train.csv\")\n",
    "logistic_regression = LogisticRegression(multi_class=\"multinomial\", solver=\"lbfgs\")\n",
    "logistic_regression.fit(train_data, train_label)\n",
    "pred = logistic_regression.predict(test_data)"
   ]
  },
  {
   "cell_type": "code",
   "execution_count": 20,
   "metadata": {},
   "outputs": [
    {
     "name": "stdout",
     "output_type": "stream",
     "text": [
      "Training accuracy = 0.128894979804\n",
      "Testing accuracy =  0.1286\n"
     ]
    }
   ],
   "source": [
    "train_accuracy = logistic_regression.score(train_data, train_label)\n",
    "testing_accuracy = logistic_regression.score(test_data, test_label)\n",
    "print('Training accuracy =', train_accuracy)\n",
    "print(\"Testing accuracy = \", testing_accuracy)"
   ]
  },
  {
   "cell_type": "code",
   "execution_count": null,
   "metadata": {
    "collapsed": true
   },
   "outputs": [],
   "source": []
  }
 ],
 "metadata": {
  "kernelspec": {
   "display_name": "Python 3",
   "language": "python",
   "name": "python3"
  },
  "language_info": {
   "codemirror_mode": {
    "name": "ipython",
    "version": 3
   },
   "file_extension": ".py",
   "mimetype": "text/x-python",
   "name": "python",
   "nbconvert_exporter": "python",
   "pygments_lexer": "ipython3",
   "version": "3.6.2"
  }
 },
 "nbformat": 4,
 "nbformat_minor": 2
}
