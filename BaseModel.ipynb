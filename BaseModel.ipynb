{
 "cells": [
  {
   "cell_type": "code",
   "execution_count": 1,
   "metadata": {
    "collapsed": true
   },
   "outputs": [],
   "source": [
    "import numpy as np\n",
    "import matplotlib.pyplot as plt\n",
    "from sklearn import svm\n",
    "from sklearn.multiclass import OneVsRestClassifier\n",
    "import pandas as pd\n",
    "from sklearn.preprocessing import LabelBinarizer\n",
    "from Utils import *\n",
    "from IPython.display import display\n",
    "from itertools import cycle"
   ]
  },
  {
   "cell_type": "markdown",
   "metadata": {},
   "source": [
    "# Loading data"
   ]
  },
  {
   "cell_type": "code",
   "execution_count": 2,
   "metadata": {
    "collapsed": true
   },
   "outputs": [],
   "source": [
    "train_stratified_directory = 'MajorityVote/group_train.csv'\n",
    "validation_directory = 'MajorityVote/group_validation.csv'"
   ]
  },
  {
   "cell_type": "code",
   "execution_count": 3,
   "metadata": {
    "collapsed": true
   },
   "outputs": [],
   "source": [
    "features = ['Weekday', 'ScanCount', 'DepartmentDescription', 'FinelineNumber', 'Upc']"
   ]
  },
  {
   "cell_type": "code",
   "execution_count": 4,
   "metadata": {
    "collapsed": true
   },
   "outputs": [],
   "source": [
    "train_stratified, train_stratified_label = load_shopping_data(train_stratified_directory, features)\n",
    "validation, validation_label = load_shopping_data(validation_directory, features)"
   ]
  },
  {
   "cell_type": "markdown",
   "metadata": {},
   "source": [
    "# Data Overview"
   ]
  },
  {
   "cell_type": "code",
   "execution_count": 5,
   "metadata": {},
   "outputs": [
    {
     "data": {
      "text/html": [
       "<div>\n",
       "<style>\n",
       "    .dataframe thead tr:only-child th {\n",
       "        text-align: right;\n",
       "    }\n",
       "\n",
       "    .dataframe thead th {\n",
       "        text-align: left;\n",
       "    }\n",
       "\n",
       "    .dataframe tbody tr th {\n",
       "        vertical-align: top;\n",
       "    }\n",
       "</style>\n",
       "<table border=\"1\" class=\"dataframe\">\n",
       "  <thead>\n",
       "    <tr style=\"text-align: right;\">\n",
       "      <th></th>\n",
       "      <th>TripType</th>\n",
       "      <th>VisitNumber</th>\n",
       "      <th>Weekday</th>\n",
       "      <th>Upc</th>\n",
       "      <th>ScanCount</th>\n",
       "      <th>DepartmentDescription</th>\n",
       "      <th>FinelineNumber</th>\n",
       "    </tr>\n",
       "  </thead>\n",
       "  <tbody>\n",
       "    <tr>\n",
       "      <th>0</th>\n",
       "      <td>42</td>\n",
       "      <td>126322</td>\n",
       "      <td>7</td>\n",
       "      <td>4.321362e+09</td>\n",
       "      <td>1</td>\n",
       "      <td>64</td>\n",
       "      <td>1912.0</td>\n",
       "    </tr>\n",
       "    <tr>\n",
       "      <th>1</th>\n",
       "      <td>42</td>\n",
       "      <td>126322</td>\n",
       "      <td>7</td>\n",
       "      <td>7.283877e+09</td>\n",
       "      <td>2</td>\n",
       "      <td>30</td>\n",
       "      <td>3625.0</td>\n",
       "    </tr>\n",
       "    <tr>\n",
       "      <th>2</th>\n",
       "      <td>42</td>\n",
       "      <td>126322</td>\n",
       "      <td>7</td>\n",
       "      <td>7.871545e+09</td>\n",
       "      <td>2</td>\n",
       "      <td>23</td>\n",
       "      <td>4900.0</td>\n",
       "    </tr>\n",
       "    <tr>\n",
       "      <th>3</th>\n",
       "      <td>42</td>\n",
       "      <td>126322</td>\n",
       "      <td>7</td>\n",
       "      <td>6.862263e+10</td>\n",
       "      <td>1</td>\n",
       "      <td>22</td>\n",
       "      <td>2025.0</td>\n",
       "    </tr>\n",
       "    <tr>\n",
       "      <th>4</th>\n",
       "      <td>42</td>\n",
       "      <td>126322</td>\n",
       "      <td>7</td>\n",
       "      <td>3.429905e+09</td>\n",
       "      <td>1</td>\n",
       "      <td>36</td>\n",
       "      <td>4902.0</td>\n",
       "    </tr>\n",
       "  </tbody>\n",
       "</table>\n",
       "</div>"
      ],
      "text/plain": [
       "   TripType  VisitNumber  Weekday           Upc  ScanCount  \\\n",
       "0        42       126322        7  4.321362e+09          1   \n",
       "1        42       126322        7  7.283877e+09          2   \n",
       "2        42       126322        7  7.871545e+09          2   \n",
       "3        42       126322        7  6.862263e+10          1   \n",
       "4        42       126322        7  3.429905e+09          1   \n",
       "\n",
       "   DepartmentDescription  FinelineNumber  \n",
       "0                     64          1912.0  \n",
       "1                     30          3625.0  \n",
       "2                     23          4900.0  \n",
       "3                     22          2025.0  \n",
       "4                     36          4902.0  "
      ]
     },
     "metadata": {},
     "output_type": "display_data"
    }
   ],
   "source": [
    "train_data = pd.read_csv(train_stratified_directory)\n",
    "display(train_data.head(5))\n",
    "del train_data"
   ]
  },
  {
   "cell_type": "code",
   "execution_count": 6,
   "metadata": {},
   "outputs": [
    {
     "name": "stdout",
     "output_type": "stream",
     "text": [
      "There are total of 37 classes in the training set\n",
      "\n",
      "We have 9965 rows and 5 columns in stratified training set.\n",
      "We have 4994 rows and 5 columns in validation set.\n",
      "\n",
      "Number of trainning data in each class is shown below:\n"
     ]
    },
    {
     "data": {
      "text/html": [
       "<div>\n",
       "<style>\n",
       "    .dataframe thead tr:only-child th {\n",
       "        text-align: right;\n",
       "    }\n",
       "\n",
       "    .dataframe thead th {\n",
       "        text-align: left;\n",
       "    }\n",
       "\n",
       "    .dataframe tbody tr th {\n",
       "        vertical-align: top;\n",
       "    }\n",
       "</style>\n",
       "<table border=\"1\" class=\"dataframe\">\n",
       "  <thead>\n",
       "    <tr style=\"text-align: right;\">\n",
       "      <th></th>\n",
       "      <th>3</th>\n",
       "      <th>4</th>\n",
       "      <th>5</th>\n",
       "      <th>6</th>\n",
       "      <th>7</th>\n",
       "      <th>8</th>\n",
       "      <th>9</th>\n",
       "      <th>12</th>\n",
       "      <th>15</th>\n",
       "      <th>18</th>\n",
       "      <th>19</th>\n",
       "      <th>20</th>\n",
       "      <th>21</th>\n",
       "      <th>22</th>\n",
       "      <th>23</th>\n",
       "      <th>24</th>\n",
       "      <th>25</th>\n",
       "      <th>26</th>\n",
       "    </tr>\n",
       "  </thead>\n",
       "  <tbody>\n",
       "    <tr>\n",
       "      <th>0</th>\n",
       "      <td>98</td>\n",
       "      <td>6</td>\n",
       "      <td>198</td>\n",
       "      <td>83</td>\n",
       "      <td>284</td>\n",
       "      <td>322</td>\n",
       "      <td>279</td>\n",
       "      <td>59</td>\n",
       "      <td>67</td>\n",
       "      <td>58</td>\n",
       "      <td>32</td>\n",
       "      <td>43</td>\n",
       "      <td>94</td>\n",
       "      <td>55</td>\n",
       "      <td>7</td>\n",
       "      <td>194</td>\n",
       "      <td>389</td>\n",
       "      <td>18</td>\n",
       "    </tr>\n",
       "  </tbody>\n",
       "</table>\n",
       "</div>"
      ],
      "text/plain": [
       "   3   4    5   6    7    8    9   12  15  18  19  20  21  22  23   24   25  \\\n",
       "0  98   6  198  83  284  322  279  59  67  58  32  43  94  55   7  194  389   \n",
       "\n",
       "   26  \n",
       "0  18  "
      ]
     },
     "metadata": {},
     "output_type": "display_data"
    },
    {
     "data": {
      "text/html": [
       "<div>\n",
       "<style>\n",
       "    .dataframe thead tr:only-child th {\n",
       "        text-align: right;\n",
       "    }\n",
       "\n",
       "    .dataframe thead th {\n",
       "        text-align: left;\n",
       "    }\n",
       "\n",
       "    .dataframe tbody tr th {\n",
       "        vertical-align: top;\n",
       "    }\n",
       "</style>\n",
       "<table border=\"1\" class=\"dataframe\">\n",
       "  <thead>\n",
       "    <tr style=\"text-align: right;\">\n",
       "      <th></th>\n",
       "      <th>27</th>\n",
       "      <th>28</th>\n",
       "      <th>29</th>\n",
       "      <th>30</th>\n",
       "      <th>31</th>\n",
       "      <th>32</th>\n",
       "      <th>33</th>\n",
       "      <th>34</th>\n",
       "      <th>35</th>\n",
       "      <th>36</th>\n",
       "      <th>37</th>\n",
       "      <th>38</th>\n",
       "      <th>39</th>\n",
       "      <th>40</th>\n",
       "      <th>41</th>\n",
       "      <th>42</th>\n",
       "      <th>43</th>\n",
       "      <th>44</th>\n",
       "      <th>999</th>\n",
       "    </tr>\n",
       "  </thead>\n",
       "  <tbody>\n",
       "    <tr>\n",
       "      <th>0</th>\n",
       "      <td>42</td>\n",
       "      <td>53</td>\n",
       "      <td>41</td>\n",
       "      <td>114</td>\n",
       "      <td>45</td>\n",
       "      <td>180</td>\n",
       "      <td>159</td>\n",
       "      <td>93</td>\n",
       "      <td>169</td>\n",
       "      <td>340</td>\n",
       "      <td>641</td>\n",
       "      <td>618</td>\n",
       "      <td>1407</td>\n",
       "      <td>2611</td>\n",
       "      <td>94</td>\n",
       "      <td>451</td>\n",
       "      <td>70</td>\n",
       "      <td>253</td>\n",
       "      <td>298</td>\n",
       "    </tr>\n",
       "  </tbody>\n",
       "</table>\n",
       "</div>"
      ],
      "text/plain": [
       "   27   28   29   30   31   32   33   34   35   36   37   38    39    40   \\\n",
       "0   42   53   41  114   45  180  159   93  169  340  641  618  1407  2611   \n",
       "\n",
       "   41   42   43   44   999  \n",
       "0   94  451   70  253  298  "
      ]
     },
     "metadata": {},
     "output_type": "display_data"
    }
   ],
   "source": [
    "(n_classes, count) = np.unique(train_stratified_label, return_counts=True)\n",
    "number_of_classes = len(n_classes)\n",
    "print('There are total of %d classes in the training set\\n' % number_of_classes)\n",
    "\n",
    "print('We have %d rows and %d columns in stratified training set.\\n\\\n",
    "We have %d rows and %d columns in validation set.\\n' %\n",
    "     (train_stratified.shape[0], train_stratified.shape[1],\n",
    "      validation.shape[0], validation.shape[1]))\n",
    "\n",
    "print('Number of trainning data in each class is shown below:')\n",
    "half = int(number_of_classes/2)\n",
    "first_half = np.vstack([n_classes[:half], count[:half]])\n",
    "second_half = np.vstack([n_classes[half:], count[half:]])\n",
    "df = pd.DataFrame(first_half[1,:].reshape(1,-1))\n",
    "df.columns = first_half[0,:]\n",
    "display(df)\n",
    "\n",
    "df = pd.DataFrame(second_half[1,:].reshape(1,-1))\n",
    "df.columns = second_half[0,:]\n",
    "display(df)"
   ]
  },
  {
   "cell_type": "markdown",
   "metadata": {},
   "source": [
    "# Training"
   ]
  },
  {
   "cell_type": "code",
   "execution_count": 7,
   "metadata": {},
   "outputs": [
    {
     "data": {
      "text/plain": [
       "SVC(C=1.0, cache_size=200, class_weight=None, coef0=0.0,\n",
       "  decision_function_shape='ovr', degree=3, gamma='auto', kernel='rbf',\n",
       "  max_iter=-1, probability=False, random_state=None, shrinking=True,\n",
       "  tol=0.001, verbose=False)"
      ]
     },
     "execution_count": 7,
     "metadata": {},
     "output_type": "execute_result"
    }
   ],
   "source": [
    "classifier = svm.SVC(kernel='rbf', decision_function_shape='ovr')\n",
    "classifier.fit(train_stratified, train_stratified_label)"
   ]
  },
  {
   "cell_type": "code",
   "execution_count": 8,
   "metadata": {},
   "outputs": [
    {
     "name": "stdout",
     "output_type": "stream",
     "text": [
      "Training accuracy = 0.832413447065\n",
      "Testing accuracy = 0.266519823789\n"
     ]
    }
   ],
   "source": [
    "train_accuracy = classifier.score(train_stratified, train_stratified_label)\n",
    "testing_accuracy = classifier.score(validation, validation_label)\n",
    "print('Training accuracy =', train_accuracy)\n",
    "print(\"Testing accuracy =\", testing_accuracy)"
   ]
  },
  {
   "cell_type": "markdown",
   "metadata": {},
   "source": [
    "## Cross Validation  "
   ]
  },
  {
   "cell_type": "code",
   "execution_count": 9,
   "metadata": {
    "collapsed": true
   },
   "outputs": [],
   "source": [
    "cv_train = np.vstack([train_stratified, validation])\n",
    "cv_label = np.hstack([train_stratified_label, validation_label])"
   ]
  },
  {
   "cell_type": "code",
   "execution_count": 10,
   "metadata": {
    "collapsed": true
   },
   "outputs": [],
   "source": [
    "cv_result = crossValidation(cv_train, cv_label, classifier, cv=5)"
   ]
  },
  {
   "cell_type": "code",
   "execution_count": 11,
   "metadata": {},
   "outputs": [
    {
     "name": "stdout",
     "output_type": "stream",
     "text": [
      "The result for each fold is \n",
      " [ 0.27114677  0.26579739  0.26813775  0.26579739  0.26844741]\n",
      "The average result is 0.267865, with standard deviation of 0.001987\n"
     ]
    }
   ],
   "source": [
    "print(\"The result for each fold is \\n\", cv_result[:, 0])\n",
    "print(\"The average result is %f, with standard deviation of %f\" % (cv_result.mean(), cv_result.std()))"
   ]
  },
  {
   "cell_type": "markdown",
   "metadata": {},
   "source": [
    "# Grid Search on C and gamma"
   ]
  },
  {
   "cell_type": "code",
   "execution_count": 12,
   "metadata": {
    "collapsed": true
   },
   "outputs": [],
   "source": [
    "c_options = [0.01, 0.05, 0.1, 0.5 , 1, 10]\n",
    "gamma_options = [1/5, 1/2, 1]\n",
    "num_c = len(c_options)\n",
    "num_gammas = len(gamma_options)\n",
    "numer_of_cv = 5\n",
    "search_result = np.zeros([num_c*num_gammas, numer_of_cv])"
   ]
  },
  {
   "cell_type": "markdown",
   "metadata": {},
   "source": [
    "# Do not rerun, takes about 30 miniutes to finish"
   ]
  },
  {
   "cell_type": "code",
   "execution_count": 13,
   "metadata": {},
   "outputs": [
    {
     "name": "stdout",
     "output_type": "stream",
     "text": [
      "Running on combo c=0.01, gamma=0.20, mean = 0.270739\n",
      "Running on combo c=0.01, gamma=0.50, mean = 0.270742\n",
      "Running on combo c=0.01, gamma=1.00, mean = 0.270740\n",
      "Running on combo c=0.05, gamma=0.20, mean = 0.270741\n",
      "Running on combo c=0.05, gamma=0.50, mean = 0.270740\n",
      "Running on combo c=0.05, gamma=1.00, mean = 0.270740\n",
      "Running on combo c=0.10, gamma=0.20, mean = 0.270739\n",
      "Running on combo c=0.10, gamma=0.50, mean = 0.270739\n",
      "Running on combo c=0.10, gamma=1.00, mean = 0.270741\n",
      "Running on combo c=0.50, gamma=0.20, mean = 0.272547\n",
      "Running on combo c=0.50, gamma=0.50, mean = 0.269669\n",
      "Running on combo c=0.50, gamma=1.00, mean = 0.269405\n",
      "Running on combo c=1.00, gamma=0.20, mean = 0.269001\n",
      "Running on combo c=1.00, gamma=0.50, mean = 0.266461\n",
      "Running on combo c=1.00, gamma=1.00, mean = 0.267062\n",
      "Running on combo c=10.00, gamma=0.20, mean = 0.248215\n",
      "Running on combo c=10.00, gamma=0.50, mean = 0.249882\n",
      "Running on combo c=10.00, gamma=1.00, mean = 0.251216\n"
     ]
    }
   ],
   "source": [
    "for i in range(num_c):\n",
    "    for j in range(num_gammas):\n",
    "        clf = svm.SVC(C = c_options[i], gamma=gamma_options[j], kernel='rbf', decision_function_shape='ovr')\n",
    "        values = crossValidation(cv_train, cv_label, clf, numer_of_cv)\n",
    "        values = np.ravel(values)\n",
    "        search_result[num_gammas*i+j, :] = values\n",
    "        print('Running on combo c=%0.2f, gamma=%0.2f, mean = %f' % \n",
    "              ( c_options[i], gamma_options[j], values.mean()))"
   ]
  },
  {
   "cell_type": "code",
   "execution_count": 27,
   "metadata": {
    "scrolled": true
   },
   "outputs": [
    {
     "name": "stdout",
     "output_type": "stream",
     "text": [
      "The best result is obtained with C  = 0.50, gamma = 0.20, mean = 0.272547, std = 0.004990\n"
     ]
    }
   ],
   "source": [
    "opt = np.argmax(search_result.mean(axis = 1))\n",
    "opt_c = c_options[int(np.floor(float(opt)/num_gammas))]\n",
    "opt_gamma = gamma_options[opt % num_gammas]\n",
    "\n",
    "print('The best result is obtained with C  = %0.2f, gamma = %0.2f, mean = %f, std = %f' % \n",
    "        (opt_c, opt_gamma, search_result[opt,:].mean(), search_result[opt,:].std()))"
   ]
  },
  {
   "cell_type": "markdown",
   "metadata": {},
   "source": [
    "# Final Classifier"
   ]
  },
  {
   "cell_type": "code",
   "execution_count": 21,
   "metadata": {
    "collapsed": true
   },
   "outputs": [],
   "source": [
    "test_directory = 'MajorityVote/group_test.csv'\n",
    "test, test_label = load_shopping_data(test_directory, features)"
   ]
  },
  {
   "cell_type": "code",
   "execution_count": 23,
   "metadata": {},
   "outputs": [
    {
     "name": "stdout",
     "output_type": "stream",
     "text": [
      "Training accuracy = 0.709606257103\n",
      "Testing accuracy = 0.235064545182\n"
     ]
    }
   ],
   "source": [
    "clf = svm.SVC(C = opt_c, gamma = opt_gamma, kernel='rbf', decision_function_shape='ovr')\n",
    "clf.fit(cv_train, cv_label)\n",
    "train_accuracy = classifier.score(cv_train, cv_label)\n",
    "testing_accuracy = classifier.score(test, test_label)\n",
    "print('Training accuracy =', train_accuracy)\n",
    "print(\"Testing accuracy =\", testing_accuracy)"
   ]
  },
  {
   "cell_type": "markdown",
   "metadata": {},
   "source": [
    "## Confusion Matrix"
   ]
  },
  {
   "cell_type": "code",
   "execution_count": 24,
   "metadata": {},
   "outputs": [
    {
     "data": {
      "text/html": [
       "<div>\n",
       "<style>\n",
       "    .dataframe thead tr:only-child th {\n",
       "        text-align: right;\n",
       "    }\n",
       "\n",
       "    .dataframe thead th {\n",
       "        text-align: left;\n",
       "    }\n",
       "\n",
       "    .dataframe tbody tr th {\n",
       "        vertical-align: top;\n",
       "    }\n",
       "</style>\n",
       "<table border=\"1\" class=\"dataframe\">\n",
       "  <thead>\n",
       "    <tr style=\"text-align: right;\">\n",
       "      <th></th>\n",
       "      <th>3</th>\n",
       "      <th>4</th>\n",
       "      <th>5</th>\n",
       "      <th>6</th>\n",
       "      <th>7</th>\n",
       "      <th>8</th>\n",
       "      <th>9</th>\n",
       "      <th>12</th>\n",
       "      <th>15</th>\n",
       "      <th>18</th>\n",
       "      <th>...</th>\n",
       "      <th>36</th>\n",
       "      <th>37</th>\n",
       "      <th>38</th>\n",
       "      <th>39</th>\n",
       "      <th>40</th>\n",
       "      <th>41</th>\n",
       "      <th>42</th>\n",
       "      <th>43</th>\n",
       "      <th>44</th>\n",
       "      <th>999</th>\n",
       "    </tr>\n",
       "  </thead>\n",
       "  <tbody>\n",
       "    <tr>\n",
       "      <th>0</th>\n",
       "      <td>0.0</td>\n",
       "      <td>0.0</td>\n",
       "      <td>0.0</td>\n",
       "      <td>0.0</td>\n",
       "      <td>0.0</td>\n",
       "      <td>0.0</td>\n",
       "      <td>0.0</td>\n",
       "      <td>0.0</td>\n",
       "      <td>0.0</td>\n",
       "      <td>0.0</td>\n",
       "      <td>...</td>\n",
       "      <td>0.0</td>\n",
       "      <td>0.0</td>\n",
       "      <td>0.0</td>\n",
       "      <td>0.0</td>\n",
       "      <td>104.0</td>\n",
       "      <td>0.0</td>\n",
       "      <td>0.0</td>\n",
       "      <td>0.0</td>\n",
       "      <td>0.0</td>\n",
       "      <td>0.0</td>\n",
       "    </tr>\n",
       "    <tr>\n",
       "      <th>1</th>\n",
       "      <td>0.0</td>\n",
       "      <td>0.0</td>\n",
       "      <td>0.0</td>\n",
       "      <td>0.0</td>\n",
       "      <td>0.0</td>\n",
       "      <td>0.0</td>\n",
       "      <td>0.0</td>\n",
       "      <td>0.0</td>\n",
       "      <td>0.0</td>\n",
       "      <td>0.0</td>\n",
       "      <td>...</td>\n",
       "      <td>0.0</td>\n",
       "      <td>0.0</td>\n",
       "      <td>0.0</td>\n",
       "      <td>0.0</td>\n",
       "      <td>19.0</td>\n",
       "      <td>0.0</td>\n",
       "      <td>0.0</td>\n",
       "      <td>0.0</td>\n",
       "      <td>0.0</td>\n",
       "      <td>0.0</td>\n",
       "    </tr>\n",
       "    <tr>\n",
       "      <th>2</th>\n",
       "      <td>0.0</td>\n",
       "      <td>0.0</td>\n",
       "      <td>0.0</td>\n",
       "      <td>0.0</td>\n",
       "      <td>0.0</td>\n",
       "      <td>0.0</td>\n",
       "      <td>0.0</td>\n",
       "      <td>0.0</td>\n",
       "      <td>0.0</td>\n",
       "      <td>0.0</td>\n",
       "      <td>...</td>\n",
       "      <td>0.0</td>\n",
       "      <td>0.0</td>\n",
       "      <td>0.0</td>\n",
       "      <td>0.0</td>\n",
       "      <td>159.0</td>\n",
       "      <td>0.0</td>\n",
       "      <td>0.0</td>\n",
       "      <td>0.0</td>\n",
       "      <td>0.0</td>\n",
       "      <td>0.0</td>\n",
       "    </tr>\n",
       "    <tr>\n",
       "      <th>3</th>\n",
       "      <td>0.0</td>\n",
       "      <td>0.0</td>\n",
       "      <td>0.0</td>\n",
       "      <td>0.0</td>\n",
       "      <td>0.0</td>\n",
       "      <td>0.0</td>\n",
       "      <td>0.0</td>\n",
       "      <td>0.0</td>\n",
       "      <td>0.0</td>\n",
       "      <td>0.0</td>\n",
       "      <td>...</td>\n",
       "      <td>0.0</td>\n",
       "      <td>0.0</td>\n",
       "      <td>0.0</td>\n",
       "      <td>0.0</td>\n",
       "      <td>26.0</td>\n",
       "      <td>0.0</td>\n",
       "      <td>0.0</td>\n",
       "      <td>0.0</td>\n",
       "      <td>0.0</td>\n",
       "      <td>0.0</td>\n",
       "    </tr>\n",
       "    <tr>\n",
       "      <th>4</th>\n",
       "      <td>0.0</td>\n",
       "      <td>0.0</td>\n",
       "      <td>0.0</td>\n",
       "      <td>0.0</td>\n",
       "      <td>0.0</td>\n",
       "      <td>0.0</td>\n",
       "      <td>0.0</td>\n",
       "      <td>0.0</td>\n",
       "      <td>0.0</td>\n",
       "      <td>0.0</td>\n",
       "      <td>...</td>\n",
       "      <td>0.0</td>\n",
       "      <td>0.0</td>\n",
       "      <td>0.0</td>\n",
       "      <td>0.0</td>\n",
       "      <td>367.0</td>\n",
       "      <td>0.0</td>\n",
       "      <td>0.0</td>\n",
       "      <td>0.0</td>\n",
       "      <td>0.0</td>\n",
       "      <td>0.0</td>\n",
       "    </tr>\n",
       "    <tr>\n",
       "      <th>5</th>\n",
       "      <td>0.0</td>\n",
       "      <td>0.0</td>\n",
       "      <td>0.0</td>\n",
       "      <td>0.0</td>\n",
       "      <td>0.0</td>\n",
       "      <td>0.0</td>\n",
       "      <td>0.0</td>\n",
       "      <td>0.0</td>\n",
       "      <td>0.0</td>\n",
       "      <td>0.0</td>\n",
       "      <td>...</td>\n",
       "      <td>0.0</td>\n",
       "      <td>0.0</td>\n",
       "      <td>0.0</td>\n",
       "      <td>0.0</td>\n",
       "      <td>350.0</td>\n",
       "      <td>0.0</td>\n",
       "      <td>0.0</td>\n",
       "      <td>0.0</td>\n",
       "      <td>0.0</td>\n",
       "      <td>0.0</td>\n",
       "    </tr>\n",
       "    <tr>\n",
       "      <th>6</th>\n",
       "      <td>0.0</td>\n",
       "      <td>0.0</td>\n",
       "      <td>0.0</td>\n",
       "      <td>0.0</td>\n",
       "      <td>0.0</td>\n",
       "      <td>0.0</td>\n",
       "      <td>0.0</td>\n",
       "      <td>0.0</td>\n",
       "      <td>0.0</td>\n",
       "      <td>0.0</td>\n",
       "      <td>...</td>\n",
       "      <td>0.0</td>\n",
       "      <td>0.0</td>\n",
       "      <td>0.0</td>\n",
       "      <td>0.0</td>\n",
       "      <td>290.0</td>\n",
       "      <td>0.0</td>\n",
       "      <td>0.0</td>\n",
       "      <td>0.0</td>\n",
       "      <td>0.0</td>\n",
       "      <td>0.0</td>\n",
       "    </tr>\n",
       "    <tr>\n",
       "      <th>7</th>\n",
       "      <td>0.0</td>\n",
       "      <td>0.0</td>\n",
       "      <td>0.0</td>\n",
       "      <td>0.0</td>\n",
       "      <td>0.0</td>\n",
       "      <td>0.0</td>\n",
       "      <td>0.0</td>\n",
       "      <td>0.0</td>\n",
       "      <td>0.0</td>\n",
       "      <td>0.0</td>\n",
       "      <td>...</td>\n",
       "      <td>0.0</td>\n",
       "      <td>0.0</td>\n",
       "      <td>0.0</td>\n",
       "      <td>0.0</td>\n",
       "      <td>60.0</td>\n",
       "      <td>0.0</td>\n",
       "      <td>0.0</td>\n",
       "      <td>0.0</td>\n",
       "      <td>0.0</td>\n",
       "      <td>0.0</td>\n",
       "    </tr>\n",
       "  </tbody>\n",
       "</table>\n",
       "<p>8 rows × 37 columns</p>\n",
       "</div>"
      ],
      "text/plain": [
       "   3    4    5    6    7    8    9    12   15   18  ...   36   37   38   39   \\\n",
       "0  0.0  0.0  0.0  0.0  0.0  0.0  0.0  0.0  0.0  0.0 ...   0.0  0.0  0.0  0.0   \n",
       "1  0.0  0.0  0.0  0.0  0.0  0.0  0.0  0.0  0.0  0.0 ...   0.0  0.0  0.0  0.0   \n",
       "2  0.0  0.0  0.0  0.0  0.0  0.0  0.0  0.0  0.0  0.0 ...   0.0  0.0  0.0  0.0   \n",
       "3  0.0  0.0  0.0  0.0  0.0  0.0  0.0  0.0  0.0  0.0 ...   0.0  0.0  0.0  0.0   \n",
       "4  0.0  0.0  0.0  0.0  0.0  0.0  0.0  0.0  0.0  0.0 ...   0.0  0.0  0.0  0.0   \n",
       "5  0.0  0.0  0.0  0.0  0.0  0.0  0.0  0.0  0.0  0.0 ...   0.0  0.0  0.0  0.0   \n",
       "6  0.0  0.0  0.0  0.0  0.0  0.0  0.0  0.0  0.0  0.0 ...   0.0  0.0  0.0  0.0   \n",
       "7  0.0  0.0  0.0  0.0  0.0  0.0  0.0  0.0  0.0  0.0 ...   0.0  0.0  0.0  0.0   \n",
       "\n",
       "     40   41   42   43   44   999  \n",
       "0  104.0  0.0  0.0  0.0  0.0  0.0  \n",
       "1   19.0  0.0  0.0  0.0  0.0  0.0  \n",
       "2  159.0  0.0  0.0  0.0  0.0  0.0  \n",
       "3   26.0  0.0  0.0  0.0  0.0  0.0  \n",
       "4  367.0  0.0  0.0  0.0  0.0  0.0  \n",
       "5  350.0  0.0  0.0  0.0  0.0  0.0  \n",
       "6  290.0  0.0  0.0  0.0  0.0  0.0  \n",
       "7   60.0  0.0  0.0  0.0  0.0  0.0  \n",
       "\n",
       "[8 rows x 37 columns]"
      ]
     },
     "execution_count": 24,
     "metadata": {},
     "output_type": "execute_result"
    }
   ],
   "source": [
    "pred = clf.predict(test)\n",
    "n_classes = np.array(n_classes)\n",
    "confusion_mat = confusion_matrix(pred, test_label, n_classes.tolist())\n",
    "confusion = pd.DataFrame(confusion_mat)\n",
    "confusion.columns = np.unique(train_stratified_label)\n",
    "confusion.head(8)"
   ]
  },
  {
   "cell_type": "markdown",
   "metadata": {},
   "source": [
    "## Micro ROC Curve"
   ]
  },
  {
   "cell_type": "code",
   "execution_count": 25,
   "metadata": {
    "collapsed": true
   },
   "outputs": [],
   "source": [
    "y_score = clf.decision_function(test)\n",
    "lb = LabelBinarizer()\n",
    "new_test_label = lb.fit(train_stratified_label).transform(test_label)\n",
    "fpr, tpr = roc_curve(new_test_label.ravel(), y_score.ravel())"
   ]
  },
  {
   "cell_type": "code",
   "execution_count": 26,
   "metadata": {},
   "outputs": [
    {
     "data": {
      "image/png": "[encoded data removed]",
      "text/plain": [
       "<matplotlib.figure.Figure at 0x117eedf98>"
      ]
     },
     "metadata": {},
     "output_type": "display_data"
    }
   ],
   "source": [
    "roc_auc = auc(fpr, tpr)\n",
    "plt.figure()\n",
    "lw = 2\n",
    "\n",
    "plt.plot(fpr, tpr, color='darkorange',\n",
    "         lw=lw, label='ROC curve (area = %0.2f)' % roc_auc)\n",
    "\n",
    "plt.plot([0, 1], [0, 1], color='navy', lw=lw, linestyle='--')\n",
    "plt.xlim([0.0, 1.0])\n",
    "plt.ylim([0.0, 1.05])\n",
    "plt.xlabel('False Positive Rate')\n",
    "plt.ylabel('True Positive Rate')\n",
    "plt.title('Receiver operating characteristic')\n",
    "plt.legend(loc=\"lower right\")\n",
    "plt.show()"
   ]
  }
 ],
 "metadata": {
  "kernelspec": {
   "display_name": "Python 3",
   "language": "python",
   "name": "python3"
  },
  "language_info": {
   "codemirror_mode": {
    "name": "ipython",
    "version": 3
   },
   "file_extension": ".py",
   "mimetype": "text/x-python",
   "name": "python",
   "nbconvert_exporter": "python",
   "pygments_lexer": "ipython3",
   "version": "3.6.1"
  }
 },
 "nbformat": 4,
 "nbformat_minor": 2
}
