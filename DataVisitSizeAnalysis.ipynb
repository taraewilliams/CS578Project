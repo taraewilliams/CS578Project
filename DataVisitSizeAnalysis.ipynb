{
 "cells": [
  {
   "cell_type": "code",
   "execution_count": 1,
   "metadata": {
    "collapsed": true
   },
   "outputs": [],
   "source": [
    "import pandas as pd\n",
    "import numpy as np"
   ]
  },
  {
   "cell_type": "code",
   "execution_count": 2,
   "metadata": {
    "collapsed": true
   },
   "outputs": [],
   "source": [
    "data = pd.read_csv(\"Data/train.csv\")"
   ]
  },
  {
   "cell_type": "markdown",
   "metadata": {},
   "source": [
    "# Visit Size Analysis"
   ]
  },
  {
   "cell_type": "code",
   "execution_count": 3,
   "metadata": {},
   "outputs": [
    {
     "name": "stdout",
     "output_type": "stream",
     "text": [
      "Maximum Group Size:  209\n",
      "Group Sizes  [  1   2   3   4   5   6   7   8   9  10  11  12  13  14  15  16  17  18\n",
      "  19  20  21  22  23  24  25  26  27  28  29  30  31  32  33  34  35  36\n",
      "  37  38  39  40  41  42  43  44  45  46  47  48  49  50  51  52  53  54\n",
      "  55  56  57  58  59  60  61  62  63  64  65  66  67  68  69  70  71  72\n",
      "  73  74  75  76  77  78  79  80  82  83  84  85  86  89  91  93  94  96\n",
      "  97  98 104 111 112 113 151 209]\n"
     ]
    }
   ],
   "source": [
    "visits = data[\"VisitNumber\"].unique().tolist()\n",
    "visit_sizes = []\n",
    "maximum = 0\n",
    "\n",
    "for visit in visits:\n",
    "    group = data.loc[data[\"VisitNumber\"]==visit]\n",
    "    group_size = group.shape[0]\n",
    "    \n",
    "    if group_size not in visit_sizes:\n",
    "        visit_sizes.append(group_size)\n",
    "        \n",
    "    if (group_size >= maximum):\n",
    "        maximum = group_size\n",
    "        \n",
    "print(\"Maximum Group Size: \", maximum)\n",
    "print(\"Group Sizes \", np.sort(visit_sizes))\n",
    "    "
   ]
  },
  {
   "cell_type": "code",
   "execution_count": null,
   "metadata": {
    "collapsed": true
   },
   "outputs": [],
   "source": []
  }
 ],
 "metadata": {
  "kernelspec": {
   "display_name": "Python 3",
   "language": "python",
   "name": "python3"
  },
  "language_info": {
   "codemirror_mode": {
    "name": "ipython",
    "version": 3
   },
   "file_extension": ".py",
   "mimetype": "text/x-python",
   "name": "python",
   "nbconvert_exporter": "python",
   "pygments_lexer": "ipython3",
   "version": "3.6.2"
  }
 },
 "nbformat": 4,
 "nbformat_minor": 2
}
