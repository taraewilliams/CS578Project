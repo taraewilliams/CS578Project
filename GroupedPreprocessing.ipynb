{
 "cells": [
  {
   "cell_type": "code",
   "execution_count": 1,
   "metadata": {
    "collapsed": true
   },
   "outputs": [],
   "source": [
    "import numpy as np\n",
    "import pandas as pd\n",
    "from sklearn.preprocessing import LabelBinarizer"
   ]
  },
  {
   "cell_type": "code",
   "execution_count": 2,
   "metadata": {},
   "outputs": [
    {
     "data": {
      "text/html": [
       "<div>\n",
       "<style>\n",
       "    .dataframe thead tr:only-child th {\n",
       "        text-align: right;\n",
       "    }\n",
       "\n",
       "    .dataframe thead th {\n",
       "        text-align: left;\n",
       "    }\n",
       "\n",
       "    .dataframe tbody tr th {\n",
       "        vertical-align: top;\n",
       "    }\n",
       "</style>\n",
       "<table border=\"1\" class=\"dataframe\">\n",
       "  <thead>\n",
       "    <tr style=\"text-align: right;\">\n",
       "      <th></th>\n",
       "      <th>TripType</th>\n",
       "      <th>VisitNumber</th>\n",
       "      <th>Weekday</th>\n",
       "      <th>Upc</th>\n",
       "      <th>ScanCount</th>\n",
       "      <th>DepartmentDescription</th>\n",
       "      <th>FinelineNumber</th>\n",
       "    </tr>\n",
       "  </thead>\n",
       "  <tbody>\n",
       "    <tr>\n",
       "      <th>0</th>\n",
       "      <td>999</td>\n",
       "      <td>5</td>\n",
       "      <td>Friday</td>\n",
       "      <td>6.811315e+10</td>\n",
       "      <td>-1</td>\n",
       "      <td>FINANCIAL SERVICES</td>\n",
       "      <td>1000.0</td>\n",
       "    </tr>\n",
       "    <tr>\n",
       "      <th>1</th>\n",
       "      <td>30</td>\n",
       "      <td>7</td>\n",
       "      <td>Friday</td>\n",
       "      <td>6.053882e+10</td>\n",
       "      <td>1</td>\n",
       "      <td>SHOES</td>\n",
       "      <td>8931.0</td>\n",
       "    </tr>\n",
       "    <tr>\n",
       "      <th>2</th>\n",
       "      <td>30</td>\n",
       "      <td>7</td>\n",
       "      <td>Friday</td>\n",
       "      <td>7.410811e+09</td>\n",
       "      <td>1</td>\n",
       "      <td>PERSONAL CARE</td>\n",
       "      <td>4504.0</td>\n",
       "    </tr>\n",
       "    <tr>\n",
       "      <th>3</th>\n",
       "      <td>26</td>\n",
       "      <td>8</td>\n",
       "      <td>Friday</td>\n",
       "      <td>2.238404e+09</td>\n",
       "      <td>2</td>\n",
       "      <td>PAINT AND ACCESSORIES</td>\n",
       "      <td>3565.0</td>\n",
       "    </tr>\n",
       "    <tr>\n",
       "      <th>4</th>\n",
       "      <td>26</td>\n",
       "      <td>8</td>\n",
       "      <td>Friday</td>\n",
       "      <td>2.006614e+09</td>\n",
       "      <td>2</td>\n",
       "      <td>PAINT AND ACCESSORIES</td>\n",
       "      <td>1017.0</td>\n",
       "    </tr>\n",
       "  </tbody>\n",
       "</table>\n",
       "</div>"
      ],
      "text/plain": [
       "   TripType  VisitNumber Weekday           Upc  ScanCount  \\\n",
       "0       999            5  Friday  6.811315e+10         -1   \n",
       "1        30            7  Friday  6.053882e+10          1   \n",
       "2        30            7  Friday  7.410811e+09          1   \n",
       "3        26            8  Friday  2.238404e+09          2   \n",
       "4        26            8  Friday  2.006614e+09          2   \n",
       "\n",
       "   DepartmentDescription  FinelineNumber  \n",
       "0     FINANCIAL SERVICES          1000.0  \n",
       "1                  SHOES          8931.0  \n",
       "2          PERSONAL CARE          4504.0  \n",
       "3  PAINT AND ACCESSORIES          3565.0  \n",
       "4  PAINT AND ACCESSORIES          1017.0  "
      ]
     },
     "execution_count": 2,
     "metadata": {},
     "output_type": "execute_result"
    }
   ],
   "source": [
    "data_directory = 'Data/train.csv'\n",
    "df = pd.read_csv(data_directory)"
   ]
  },
  {
   "cell_type": "code",
   "execution_count": 3,
   "metadata": {
    "collapsed": true
   },
   "outputs": [],
   "source": [
    "df = df.dropna(how='any')\n",
    "df = df.reset_index(drop=True)\n",
    "original_df = df"
   ]
  },
  {
   "cell_type": "code",
   "execution_count": 4,
   "metadata": {
    "collapsed": true
   },
   "outputs": [],
   "source": [
    "def one_hot_encode(data):\n",
    "    lb = LabelBinarizer()\n",
    "    data = lb.fit_transform(data)\n",
    "    data = pd.DataFrame(data)\n",
    "    data.columns = lb.classes_\n",
    "    return data"
   ]
  },
  {
   "cell_type": "code",
   "execution_count": 5,
   "metadata": {
    "collapsed": true
   },
   "outputs": [],
   "source": [
    "dp = one_hot_encode(df.DepartmentDescription)\n",
    "wd = one_hot_encode(df.Weekday)"
   ]
  },
  {
   "cell_type": "code",
   "execution_count": 6,
   "metadata": {
    "collapsed": true
   },
   "outputs": [],
   "source": [
    "df = df.drop(['Weekday', 'DepartmentDescription', 'Upc', 'FinelineNumber'], axis=1)"
   ]
  },
  {
   "cell_type": "code",
   "execution_count": 7,
   "metadata": {
    "collapsed": true
   },
   "outputs": [],
   "source": [
    "df[wd.columns] = wd\n",
    "df[dp.columns] = dp"
   ]
  },
  {
   "cell_type": "code",
   "execution_count": 8,
   "metadata": {
    "collapsed": true
   },
   "outputs": [],
   "source": [
    "grouped_data = df.groupby(\"VisitNumber\")\n",
    "grouped_data = grouped_data.agg(\n",
    "{'TripType': np.max,\n",
    "'ScanCount': np.sum,\n",
    "'Friday': np.max,\n",
    "'Monday': np.max,\n",
    "'Saturday': np.max,\n",
    "'Sunday': np.max,\n",
    "'Thursday': np.max,\n",
    "'Tuesday': np.max,\n",
    "'Wednesday': np.max,\n",
    "'1-HR PHOTO': np.sum,\n",
    "'ACCESSORIES': np.sum,\n",
    "'AUTOMOTIVE': np.sum,\n",
    "'BAKERY': np.sum,\n",
    "'BATH AND SHOWER': np.sum,\n",
    "'BEAUTY': np.sum,\n",
    "'BEDDING': np.sum,\n",
    "'BOOKS AND MAGAZINES': np.sum,\n",
    "'BOYS WEAR': np.sum,\n",
    "'BRAS & SHAPEWEAR': np.sum,\n",
    "'CAMERAS AND SUPPLIES': np.sum,\n",
    "'CANDY, TOBACCO, COOKIES': np.sum,\n",
    "'CELEBRATION': np.sum,\n",
    "'COMM BREAD': np.sum,\n",
    "'CONCEPT STORES': np.sum,\n",
    "'COOK AND DINE': np.sum,\n",
    "'DAIRY': np.sum,\n",
    "'DSD GROCERY': np.sum,\n",
    "'ELECTRONICS': np.sum,\n",
    "'FABRICS AND CRAFTS': np.sum,\n",
    "'FINANCIAL SERVICES': np.sum,\n",
    "'FROZEN FOODS': np.sum,\n",
    "'FURNITURE': np.sum,\n",
    "'GIRLS WEAR, 4-6X  AND 7-14': np.sum,\n",
    "'GROCERY DRY GOODS': np.sum,\n",
    "'HARDWARE': np.sum,\n",
    "'HEALTH AND BEAUTY AIDS': np.sum,\n",
    "'HOME DECOR': np.sum,\n",
    "'HOME MANAGEMENT': np.sum,\n",
    "'HORTICULTURE AND ACCESS': np.sum,\n",
    "'HOUSEHOLD CHEMICALS/SUPP': np.sum,\n",
    "'HOUSEHOLD PAPER GOODS': np.sum,\n",
    "'IMPULSE MERCHANDISE': np.sum,\n",
    "'INFANT APPAREL': np.sum,\n",
    "'INFANT CONSUMABLE HARDLINES': np.sum,\n",
    "'JEWELRY AND SUNGLASSES': np.sum,\n",
    "'LADIES SOCKS': np.sum,\n",
    "'LADIESWEAR': np.sum,\n",
    "'LARGE HOUSEHOLD GOODS': np.sum,\n",
    "'LAWN AND GARDEN': np.sum,\n",
    "'LIQUOR,WINE,BEER': np.sum,\n",
    "'MEAT - FRESH & FROZEN': np.sum,\n",
    "'MEDIA AND GAMING': np.sum,\n",
    "'MENS WEAR': np.sum,\n",
    "'MENSWEAR': np.sum,\n",
    "'OFFICE SUPPLIES': np.sum,\n",
    "'OPTICAL - FRAMES': np.sum,\n",
    "'OPTICAL - LENSES': np.sum,\n",
    "'OTHER DEPARTMENTS': np.sum,\n",
    "'PAINT AND ACCESSORIES': np.sum,\n",
    "'PERSONAL CARE': np.sum,\n",
    "'PETS AND SUPPLIES': np.sum,\n",
    "'PHARMACY OTC': np.sum,\n",
    "'PHARMACY RX': np.sum,\n",
    "'PLAYERS AND ELECTRONICS': np.sum,\n",
    "'PLUS AND MATERNITY': np.sum,\n",
    "'PRE PACKED DELI': np.sum,\n",
    "'PRODUCE': np.sum,\n",
    "'SEAFOOD': np.sum,\n",
    "'SEASONAL': np.sum,\n",
    "'SERVICE DELI': np.sum,\n",
    "'SHEER HOSIERY': np.sum,\n",
    "'SHOES': np.sum,\n",
    "'SLEEPWEAR/FOUNDATIONS': np.sum,\n",
    "'SPORTING GOODS': np.sum,\n",
    "'SWIMWEAR/OUTERWEAR': np.sum,\n",
    "'TOYS': np.sum,\n",
    "'WIRELESS': np.sum})"
   ]
  },
  {
   "cell_type": "code",
   "execution_count": 10,
   "metadata": {
    "collapsed": true
   },
   "outputs": [],
   "source": [
    "grouped_data.to_csv('Data/grouped_data.csv')"
   ]
  }
 ],
 "metadata": {
  "kernelspec": {
   "display_name": "Python 3",
   "language": "python",
   "name": "python3"
  },
  "language_info": {
   "codemirror_mode": {
    "name": "ipython",
    "version": 3
   },
   "file_extension": ".py",
   "mimetype": "text/x-python",
   "name": "python",
   "nbconvert_exporter": "python",
   "pygments_lexer": "ipython3",
   "version": "3.6.2"
  }
 },
 "nbformat": 4,
 "nbformat_minor": 2
}
