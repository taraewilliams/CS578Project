{
 "cells": [
  {
   "cell_type": "code",
   "execution_count": 1,
   "metadata": {
    "collapsed": true
   },
   "outputs": [],
   "source": [
    "import numpy as np\n",
    "import matplotlib.pyplot as plt\n",
    "from sklearn import svm\n",
    "from sklearn.multiclass import OneVsRestClassifier\n",
    "import pandas as pd\n",
    "from sklearn.preprocessing import LabelBinarizer\n",
    "from Utils import *\n",
    "from IPython.display import display"
   ]
  },
  {
   "cell_type": "markdown",
   "metadata": {},
   "source": [
    "# Loading data"
   ]
  },
  {
   "cell_type": "code",
   "execution_count": 2,
   "metadata": {
    "collapsed": true
   },
   "outputs": [],
   "source": [
    "train_stratified_directory = 'GroupedData/train.csv'\n",
    "validation_directory = 'GroupedData/validation_random.csv'"
   ]
  },
  {
   "cell_type": "code",
   "execution_count": 3,
   "metadata": {
    "collapsed": true
   },
   "outputs": [],
   "source": [
    "train_stratified, train_stratified_label = load_shopping_data(train_stratified_directory)\n",
    "validation, validation_label = load_shopping_data(validation_directory)"
   ]
  },
  {
   "cell_type": "markdown",
   "metadata": {},
   "source": [
    "# Training"
   ]
  },
  {
   "cell_type": "markdown",
   "metadata": {},
   "source": [
    "## Support Vector Machine"
   ]
  },
  {
   "cell_type": "code",
   "execution_count": 4,
   "metadata": {},
   "outputs": [
    {
     "data": {
      "text/plain": [
       "SVC(C=1.0, cache_size=200, class_weight=None, coef0=0.0,\n",
       "  decision_function_shape='ovr', degree=3, gamma='auto', kernel='rbf',\n",
       "  max_iter=-1, probability=False, random_state=None, shrinking=True,\n",
       "  tol=0.001, verbose=False)"
      ]
     },
     "execution_count": 4,
     "metadata": {},
     "output_type": "execute_result"
    }
   ],
   "source": [
    "clf = svm.SVC(kernel='rbf', decision_function_shape='ovr')\n",
    "clf.fit(train_stratified, train_stratified_label)"
   ]
  },
  {
   "cell_type": "code",
   "execution_count": 5,
   "metadata": {},
   "outputs": [
    {
     "name": "stdout",
     "output_type": "stream",
     "text": [
      "Training accuracy = 0.850836699365\n",
      "Testing accuracy = 0.1216\n"
     ]
    }
   ],
   "source": [
    "train_accuracy = clf.score(train_stratified, train_stratified_label)\n",
    "testing_accuracy = clf.score(validation, validation_label)\n",
    "print('Training accuracy =', train_accuracy)\n",
    "print(\"Testing accuracy =\", testing_accuracy)"
   ]
  },
  {
   "cell_type": "markdown",
   "metadata": {},
   "source": [
    "## Grid Search with CV  (Takes a very long time, do not run)"
   ]
  },
  {
   "cell_type": "code",
   "execution_count": 8,
   "metadata": {
    "collapsed": true
   },
   "outputs": [],
   "source": [
    "cv_train = np.vstack([train_stratified, validation])\n",
    "cv_label = np.hstack([train_stratified_label, validation_label])"
   ]
  },
  {
   "cell_type": "code",
   "execution_count": 6,
   "metadata": {
    "collapsed": true
   },
   "outputs": [],
   "source": [
    "c_options = [0.01, 0.05, 0.1, 0.5 , 1, 10]\n",
    "gamma_options = [1/5, 1/2, 1]\n",
    "num_c = len(c_options)\n",
    "num_gammas = len(gamma_options)\n",
    "numer_of_cv = 5\n",
    "search_result = np.zeros([num_c*num_gammas, numer_of_cv])"
   ]
  },
  {
   "cell_type": "code",
   "execution_count": 10,
   "metadata": {},
   "outputs": [
    {
     "name": "stdout",
     "output_type": "stream",
     "text": [
      "Running on combo c=0.01, gamma=0.20, mean = 0.129402\n",
      "Running on combo c=0.01, gamma=0.50, mean = 0.129400\n",
      "Running on combo c=0.01, gamma=1.00, mean = 0.129399\n",
      "Running on combo c=0.05, gamma=0.20, mean = 0.129400\n",
      "Running on combo c=0.05, gamma=0.50, mean = 0.129402\n",
      "Running on combo c=0.05, gamma=1.00, mean = 0.129398\n",
      "Running on combo c=0.10, gamma=0.20, mean = 0.129399\n",
      "Running on combo c=0.10, gamma=0.50, mean = 0.129401\n",
      "Running on combo c=0.10, gamma=1.00, mean = 0.129401\n",
      "Running on combo c=0.50, gamma=0.20, mean = 0.129400\n",
      "Running on combo c=0.50, gamma=0.50, mean = 0.129399\n",
      "Running on combo c=0.50, gamma=1.00, mean = 0.129400\n",
      "Running on combo c=1.00, gamma=0.20, mean = 0.130035\n",
      "Running on combo c=1.00, gamma=0.50, mean = 0.129770\n",
      "Running on combo c=1.00, gamma=1.00, mean = 0.129506\n",
      "Running on combo c=10.00, gamma=0.20, mean = 0.128499\n",
      "Running on combo c=10.00, gamma=0.50, mean = 0.130195\n",
      "Running on combo c=10.00, gamma=1.00, mean = 0.129613\n"
     ]
    }
   ],
   "source": [
    "for i in range(num_c):\n",
    "    for j in range(num_gammas):\n",
    "        clf = svm.SVC(C = c_options[i], gamma=gamma_options[j], kernel='rbf', decision_function_shape='ovr')\n",
    "        values = crossValidation(cv_train, cv_label, clf, numer_of_cv)\n",
    "        values = np.ravel(values)\n",
    "        search_result[num_gammas*i+j, :] = values\n",
    "        print('Running on combo c=%0.2f, gamma=%0.2f, mean = %f' % \n",
    "              ( c_options[i], gamma_options[j], values.mean()))"
   ]
  },
  {
   "cell_type": "code",
   "execution_count": 14,
   "metadata": {},
   "outputs": [
    {
     "name": "stdout",
     "output_type": "stream",
     "text": [
      "The best result is obtained with C  = 10.00, gamma = 0.50, mean = 0.130195, std = 0.003521\n"
     ]
    }
   ],
   "source": [
    "opt = np.argmax(search_result.mean(axis = 1))\n",
    "opt_c = c_options[int(np.floor(float(opt)/num_gammas))]\n",
    "opt_gamma = gamma_options[opt % num_gammas]\n",
    "\n",
    "print('The best result is obtained with C  = %0.2f, gamma = %0.2f, mean = %f, std = %f' % \n",
    "        (opt_c, opt_gamma, search_result[opt,:].mean(), search_result[opt,:].std()))"
   ]
  },
  {
   "cell_type": "markdown",
   "metadata": {},
   "source": [
    "### Normal KFold Cross Validation"
   ]
  },
  {
   "cell_type": "code",
   "execution_count": 15,
   "metadata": {
    "collapsed": true
   },
   "outputs": [],
   "source": [
    "clf = svm.SVC(C = opt_c, gamma=opt_gamma, kernel='rbf', decision_function_shape='ovr')"
   ]
  },
  {
   "cell_type": "code",
   "execution_count": 16,
   "metadata": {},
   "outputs": [],
   "source": [
    "cv_result = crossValidation(cv_train, cv_label, clf, cv=5)"
   ]
  },
  {
   "cell_type": "code",
   "execution_count": null,
   "metadata": {},
   "outputs": [],
   "source": [
    "print(\"The result for each fold is \\n\", cv_result[:, 0])\n",
    "print(\"The average result is %f, with standard deviation of %f\" % (cv_result.mean(), cv_result.std()))"
   ]
  },
  {
   "cell_type": "markdown",
   "metadata": {},
   "source": [
    "# Final Classifier"
   ]
  },
  {
   "cell_type": "code",
   "execution_count": 11,
   "metadata": {},
   "outputs": [
    {
     "data": {
      "text/plain": [
       "SVC(C=1.0, cache_size=200, class_weight=None, coef0=0.0,\n",
       "  decision_function_shape='ovr', degree=3, gamma='auto', kernel='rbf',\n",
       "  max_iter=-1, probability=True, random_state=None, shrinking=True,\n",
       "  tol=0.001, verbose=False)"
      ]
     },
     "execution_count": 11,
     "metadata": {},
     "output_type": "execute_result"
    }
   ],
   "source": [
    "clf = svm.SVC(kernel='rbf', decision_function_shape='ovr', probability=True, C=opt_c, gamma=opt_gamma)\n",
    "clf.fit(cv_train, cv_label)"
   ]
  },
  {
   "cell_type": "code",
   "execution_count": 18,
   "metadata": {
    "collapsed": true
   },
   "outputs": [],
   "source": [
    "test_directory = 'GroupedData/test_random.csv'\n",
    "test, test_label = load_shopping_data(test_directory)"
   ]
  },
  {
   "cell_type": "code",
   "execution_count": 19,
   "metadata": {},
   "outputs": [
    {
     "name": "stdout",
     "output_type": "stream",
     "text": [
      "Training accuracy = 0.850836699365\n",
      "Testing accuracy = 0.1292\n"
     ]
    }
   ],
   "source": [
    "testing_accuracy = clf.score(test, test_label)\n",
    "train_accuracy = clf.score(cv_train, cv_label)\n",
    "print('Training accuracy =', train_accuracy)\n",
    "print(\"Testing accuracy =\", testing_accuracy)"
   ]
  },
  {
   "cell_type": "markdown",
   "metadata": {},
   "source": [
    "## Micro ROC Curve"
   ]
  },
  {
   "cell_type": "code",
   "execution_count": 22,
   "metadata": {},
   "outputs": [],
   "source": [
    "y_score = clf.decision_function(test)\n",
    "lb = LabelBinarizer()\n",
    "new_test_label = lb.fit(train_stratified_label).transform(test_label)\n",
    "fpr, tpr = roc_curve(new_test_label.ravel(), y_score.ravel())"
   ]
  },
  {
   "cell_type": "code",
   "execution_count": 23,
   "metadata": {},
   "outputs": [
    {
     "data": {
      "image/png": "[encoded data removed]",
      "text/plain": [
       "<matplotlib.figure.Figure at 0x106493e10>"
      ]
     },
     "metadata": {},
     "output_type": "display_data"
    }
   ],
   "source": [
    "roc_auc = auc(fpr, tpr)\n",
    "plt.figure()\n",
    "lw = 2\n",
    "plt.plot(fpr, tpr, color='darkorange',\n",
    "         lw=lw, label='ROC curve (area = %0.2f)' % roc_auc)\n",
    "plt.plot([0, 1], [0, 1], color='navy', lw=lw, linestyle='--')\n",
    "plt.xlim([0.0, 1.0])\n",
    "plt.ylim([0.0, 1.05])\n",
    "plt.xlabel('False Positive Rate')\n",
    "plt.ylabel('True Positive Rate')\n",
    "plt.title('Receiver operating characteristic')\n",
    "plt.legend(loc=\"lower right\")\n",
    "plt.show()"
   ]
  }
 ],
 "metadata": {
  "kernelspec": {
   "display_name": "Python 3",
   "language": "python",
   "name": "python3"
  },
  "language_info": {
   "codemirror_mode": {
    "name": "ipython",
    "version": 3
   },
   "file_extension": ".py",
   "mimetype": "text/x-python",
   "name": "python",
   "nbconvert_exporter": "python",
   "pygments_lexer": "ipython3",
   "version": "3.6.1"
  }
 },
 "nbformat": 4,
 "nbformat_minor": 2
}
