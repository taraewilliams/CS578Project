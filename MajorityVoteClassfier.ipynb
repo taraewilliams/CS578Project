{
 "cells": [
  {
   "cell_type": "code",
   "execution_count": 117,
   "metadata": {
    "collapsed": true
   },
   "outputs": [],
   "source": [
    "import numpy as np"
   ]
  },
  {
   "cell_type": "code",
   "execution_count": 118,
   "metadata": {},
   "outputs": [],
   "source": [
    "class FakeModel:\n",
    "    x = None\n",
    "    y = None\n",
    "    def __init__(self):\n",
    "        pass\n",
    "    \n",
    "    def fit(self, X, y):\n",
    "        self.x = X\n",
    "        self.y = y\n",
    "    \n",
    "    def predict(self, X):\n",
    "        n = X.shape[0]\n",
    "        result = np.zeros([n, 1])\n",
    "        for i in range(n):\n",
    "            for j in range(self.x.shape[0]):\n",
    "                if np.array_equal(X[i,:], self.x[j,:]):\n",
    "                    result[i] = self.y[j]\n",
    "        return result"
   ]
  },
  {
   "cell_type": "code",
   "execution_count": 119,
   "metadata": {
    "collapsed": true
   },
   "outputs": [],
   "source": [
    "class MajorityVoteClassifier:\n",
    "    model = None\n",
    "    classes = 0\n",
    "    number_of_classes = 0\n",
    "    \n",
    "    def __init__(self, model):\n",
    "        self.model = model\n",
    "    \n",
    "    def fit(self, X, y):\n",
    "        self.model.fit(X, y)\n",
    "        self.classes = np.unique(y)\n",
    "        self.number_of_classes = len(self.classes)\n",
    "        \n",
    "    def predict(self, data):\n",
    "        group_pred = np.zeros([len(data), 1])\n",
    "        index = 0\n",
    "        for group in data:\n",
    "            pred = self.model.predict(group)\n",
    "            (values,counts) = np.unique(pred, return_counts=True)\n",
    "            group_pred[index] = values[np.argmax(counts)]\n",
    "            index+=1\n",
    "        return group_pred"
   ]
  },
  {
   "cell_type": "code",
   "execution_count": 126,
   "metadata": {
    "collapsed": true
   },
   "outputs": [],
   "source": [
    "def test():\n",
    "    X = np.matrix([[1, 1],[2,2],[3,3],[4,4],[4,4],[8,8]])\n",
    "    y = np.array([1,3,5,7,7,9])\n",
    "    model = FakeModel()\n",
    "    mjModel = MajorityVoteClassifier(model)\n",
    "    mjModel.fit(X, y)\n",
    "    return mjModel.predict([X])[0][0] == 7 "
   ]
  },
  {
   "cell_type": "code",
   "execution_count": 127,
   "metadata": {},
   "outputs": [
    {
     "data": {
      "text/plain": [
       "True"
      ]
     },
     "execution_count": 127,
     "metadata": {},
     "output_type": "execute_result"
    }
   ],
   "source": [
    "test()"
   ]
  },
  {
   "cell_type": "code",
   "execution_count": null,
   "metadata": {
    "collapsed": true
   },
   "outputs": [],
   "source": []
  }
 ],
 "metadata": {
  "kernelspec": {
   "display_name": "Python 3",
   "language": "python",
   "name": "python3"
  },
  "language_info": {
   "codemirror_mode": {
    "name": "ipython",
    "version": 3
   },
   "file_extension": ".py",
   "mimetype": "text/x-python",
   "name": "python",
   "nbconvert_exporter": "python",
   "pygments_lexer": "ipython3",
   "version": "3.6.1"
  }
 },
 "nbformat": 4,
 "nbformat_minor": 2
}
