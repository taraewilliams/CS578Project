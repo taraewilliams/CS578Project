{
 "cells": [
  {
   "cell_type": "code",
   "execution_count": 1,
   "metadata": {
    "collapsed": true
   },
   "outputs": [],
   "source": [
    "import numpy as np\n",
    "import matplotlib.pyplot as plt\n",
    "from sklearn import svm\n",
    "from sklearn.multiclass import OneVsRestClassifier\n",
    "import pandas as pd\n",
    "from sklearn.preprocessing import LabelBinarizer\n",
    "from Utils import *"
   ]
  },
  {
   "cell_type": "code",
   "execution_count": 2,
   "metadata": {
    "collapsed": true
   },
   "outputs": [],
   "source": [
    "train_stratified_directory = 'MajorityVote/group_train.csv'\n",
    "validation_directory = 'MajorityVote/group_validation.csv'\n",
    "test_dirctory = 'MajorityVote/group_test.csv'"
   ]
  },
  {
   "cell_type": "code",
   "execution_count": 3,
   "metadata": {
    "collapsed": true
   },
   "outputs": [],
   "source": [
    "features = ['Weekday', 'ScanCount', 'DepartmentDescription', 'FinelineNumber', 'Upc', 'VisitNumber']"
   ]
  },
  {
   "cell_type": "code",
   "execution_count": 4,
   "metadata": {},
   "outputs": [],
   "source": [
    "train_stratified, train_stratified_label = load_shopping_data(train_stratified_directory, features)\n",
    "validation, validation_label = load_shopping_data(validation_directory, features)\n",
    "test, test_label = load_shopping_data(test_dirctory, features)"
   ]
  },
  {
   "cell_type": "code",
   "execution_count": 5,
   "metadata": {
    "collapsed": true
   },
   "outputs": [],
   "source": [
    "(n_classes, count) = np.unique(train_stratified_label, return_counts=True)\n",
    "number_of_classes = len(n_classes)"
   ]
  },
  {
   "cell_type": "markdown",
   "metadata": {},
   "source": [
    "## MajorityVote Classifier"
   ]
  },
  {
   "cell_type": "code",
   "execution_count": 49,
   "metadata": {
    "collapsed": true
   },
   "outputs": [],
   "source": [
    "classifier = svm.SVC(kernel='rbf', decision_function_shape='ovr', C=0.5, gamma=0.2)\n",
    "classifier = MajorityVoteMask(classifier, 5)"
   ]
  },
  {
   "cell_type": "code",
   "execution_count": null,
   "metadata": {
    "collapsed": true
   },
   "outputs": [],
   "source": [
    "classifier.fit(train_stratified, train_stratified_label)"
   ]
  },
  {
   "cell_type": "code",
   "execution_count": 44,
   "metadata": {
    "scrolled": true
   },
   "outputs": [
    {
     "name": "stdout",
     "output_type": "stream",
     "text": [
      "Training accuracy = 0.10684931506849316\n",
      "Testing accuracy = 0.08636977058029689\n"
     ]
    }
   ],
   "source": [
    "train_accuracy = classifier.score(train_stratified, train_stratified_label)\n",
    "testing_accuracy = classifier.score(validation, validation_label)\n",
    "print('Training accuracy =', train_accuracy)\n",
    "print(\"Testing accuracy =\", testing_accuracy)"
   ]
  },
  {
   "cell_type": "markdown",
   "metadata": {},
   "source": [
    "## Cross Validation"
   ]
  },
  {
   "cell_type": "code",
   "execution_count": 50,
   "metadata": {
    "collapsed": true
   },
   "outputs": [],
   "source": [
    "cv_train = np.vstack([train_stratified, validation])\n",
    "cv_label = np.hstack([train_stratified_label, validation_label])"
   ]
  },
  {
   "cell_type": "code",
   "execution_count": 51,
   "metadata": {},
   "outputs": [],
   "source": [
    "cv_result = crossValidation(cv_train, cv_label, classifier, cv=5)"
   ]
  },
  {
   "cell_type": "code",
   "execution_count": 52,
   "metadata": {},
   "outputs": [
    {
     "name": "stdout",
     "output_type": "stream",
     "text": [
      "The average result is 0.121970, with standard deviation of 0.004343\n"
     ]
    }
   ],
   "source": [
    "print(\"The average result is %f, with standard deviation of %f\" % (cv_result.mean(), cv_result.std()))"
   ]
  },
  {
   "cell_type": "markdown",
   "metadata": {},
   "source": [
    "## Result on Test Set"
   ]
  },
  {
   "cell_type": "code",
   "execution_count": 53,
   "metadata": {
    "collapsed": true
   },
   "outputs": [],
   "source": [
    "classifier = svm.SVC(kernel='rbf', decision_function_shape='ovr', C=0.5, gamma=0.2)\n",
    "classifier = MajorityVoteMask(classifier, 5)"
   ]
  },
  {
   "cell_type": "code",
   "execution_count": 54,
   "metadata": {},
   "outputs": [],
   "source": [
    "classifier.fit(cv_train, cv_label)"
   ]
  },
  {
   "cell_type": "code",
   "execution_count": 55,
   "metadata": {},
   "outputs": [
    {
     "name": "stdout",
     "output_type": "stream",
     "text": [
      "Training accuracy = 0.8977737392094502\n",
      "Testing accuracy = 0.09805194805194806\n"
     ]
    }
   ],
   "source": [
    "train_accuracy = classifier.score(cv_train, cv_label)\n",
    "testing_accuracy = classifier.score(test, test_label)\n",
    "print('Training accuracy =', train_accuracy)\n",
    "print(\"Testing accuracy =\", testing_accuracy)"
   ]
  }
 ],
 "metadata": {
  "kernelspec": {
   "display_name": "Python 3",
   "language": "python",
   "name": "python3"
  },
  "language_info": {
   "codemirror_mode": {
    "name": "ipython",
    "version": 3
   },
   "file_extension": ".py",
   "mimetype": "text/x-python",
   "name": "python",
   "nbconvert_exporter": "python",
   "pygments_lexer": "ipython3",
   "version": "3.6.1"
  }
 },
 "nbformat": 4,
 "nbformat_minor": 2
}
