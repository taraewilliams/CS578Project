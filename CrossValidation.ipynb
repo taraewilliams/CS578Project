{
 "cells": [
  {
   "cell_type": "code",
   "execution_count": 1,
   "metadata": {
    "collapsed": true
   },
   "outputs": [],
   "source": [
    "from sklearn.model_selection import train_test_split\n",
    "import numpy as np\n",
    "from sklearn.metrics import accuracy_score\n",
    "# np.random.seed(0)"
   ]
  },
  {
   "cell_type": "code",
   "execution_count": 2,
   "metadata": {
    "collapsed": true
   },
   "outputs": [],
   "source": [
    "def cross_validate(model, data, label, cv = 5, scoring = 'basic'):\n",
    "    (n, d) = data.shape\n",
    "    index = np.random.permutation(n)\n",
    "    k_folds = np.floor(n/cv)\n",
    "    result = np.zeros([n,1])\n",
    "    pred_prob = np.zeros([k_folds, cv])\n",
    "    for i in range(k_folds):\n",
    "        (train, train_label, val, val_label) = cv_split_data(data, label, i, index, cv)\n",
    "        result[i], pred_prob[i, :] = cv_score(train, train_label, val, val_label, model, scoring)\n",
    "    return result, pred_prob"
   ]
  },
  {
   "cell_type": "code",
   "execution_count": 63,
   "metadata": {},
   "outputs": [],
   "source": [
    "def cv_split_data(data, label, i, index, cv):\n",
    "    val_start = int(i*cv)\n",
    "    val_end = val_start+cv\n",
    "    \n",
    "    train_index = np.hstack((index[:val_start], index[val_end:]))\n",
    "    train = data[train_index, :]\n",
    "    label = label[train_index]\n",
    "    \n",
    "    val_index = index[val_start:val_end]\n",
    "    val = data[val_index]\n",
    "    val_label = label[val_index]\n",
    "    return (train, label, val, val_label)"
   ]
  },
  {
   "cell_type": "code",
   "execution_count": 54,
   "metadata": {},
   "outputs": [],
   "source": [
    "def cv_score(data, label, val, val_label, model, scoring = 'basic'):\n",
    "    model.fit(data, label)\n",
    "    if scoring == 'basic':\n",
    "        pred = model.predict(val)\n",
    "        return accuracy_score(pred, val_label), model.predict_proba(val)\n",
    "    elif scoring == 'average_class':\n",
    "        return mode.score(val, val_label), model.predict_proba(val)\n",
    "    else:\n",
    "        return scoring(model, val, val_label)"
   ]
  },
  {
   "cell_type": "code",
   "execution_count": 98,
   "metadata": {},
   "outputs": [
    {
     "name": "stdout",
     "output_type": "stream",
     "text": [
      "Passed 1\n",
      "Passed 2\n"
     ]
    }
   ],
   "source": [
    "def cv_split_data_test():\n",
    "    data = np.matrix(\"1 2 3; 4 5 6; 7 8 9; 10 11 12\")\n",
    "    label = np.matrix(\"1; 1; -1; -1\")\n",
    "    index = np.array([1, 3, 0, 2])\n",
    "    packet = cv_split_data(data, label, 0, index, 1)\n",
    "    if packet[0].shape == (3, 3) and packet[1].shape == (3,1) and packet[2].shape == (1, 3) and packet[3].shape == (1,1) and packet[0][0,0] == 10:\n",
    "            print(\"Passed 1\")\n",
    "    else:\n",
    "        print(\"Failed 1\")\n",
    "    packet = cv_split_data(data, label, 3, index, 3)\n",
    "    if packet[0].shape == (4, 3) and packet[1].shape == (4,1) and packet[2].shape == (0, 3) and packet[3].shape == (0,1) and packet[0][0,0] == 4:\n",
    "        print(\"Passed 2\")\n",
    "    else:\n",
    "        print(\"Failed 2\")\n",
    "cv_split_data_test()"
   ]
  },
  {
   "cell_type": "code",
   "execution_count": null,
   "metadata": {
    "collapsed": true
   },
   "outputs": [],
   "source": []
  }
 ],
 "metadata": {
  "kernelspec": {
   "display_name": "Python 3",
   "language": "python",
   "name": "python3"
  },
  "language_info": {
   "codemirror_mode": {
    "name": "ipython",
    "version": 3
   },
   "file_extension": ".py",
   "mimetype": "text/x-python",
   "name": "python",
   "nbconvert_exporter": "python",
   "pygments_lexer": "ipython3",
   "version": "3.6.1"
  }
 },
 "nbformat": 4,
 "nbformat_minor": 2
}
