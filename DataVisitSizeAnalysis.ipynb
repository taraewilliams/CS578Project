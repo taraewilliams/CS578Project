{
 "cells": [
  {
   "cell_type": "code",
   "execution_count": 28,
   "metadata": {
    "collapsed": true
   },
   "outputs": [],
   "source": [
    "import pandas as pd\n",
    "import numpy as np"
   ]
  },
  {
   "cell_type": "code",
   "execution_count": 29,
   "metadata": {
    "collapsed": true
   },
   "outputs": [],
   "source": [
    "data = pd.read_csv(\"CleanData/train_numerical.csv\")"
   ]
  },
  {
   "cell_type": "markdown",
   "metadata": {},
   "source": [
    "# "
   ]
  },
  {
   "cell_type": "code",
   "execution_count": 31,
   "metadata": {},
   "outputs": [
    {
     "name": "stdout",
     "output_type": "stream",
     "text": [
      "Maximum Group Size:  53\n",
      "Group Sizes  [ 1  2  3  4  5  6  7  8  9 10 11 12 13 14 15 16 17 18 19 20 21 22 23 24 25\n",
      " 26 27 28 29 30 33 34 35 37 38 42 44 46 50 53]\n"
     ]
    }
   ],
   "source": [
    "visits = data[\"VisitNumber\"].unique().tolist()\n",
    "visit_sizes = []\n",
    "maximum = 0\n",
    "\n",
    "for visit in visits:\n",
    "    group = data.loc[data[\"VisitNumber\"]==visit]\n",
    "    group_size = group.shape[0]\n",
    "    \n",
    "    if group_size not in visit_sizes:\n",
    "        visit_sizes.append(group_size)\n",
    "        \n",
    "    if (group_size >= maximum):\n",
    "        maximum = group_size\n",
    "        \n",
    "print(\"Maximum Group Size: \", maximum)\n",
    "print(\"Group Sizes \", np.sort(visit_sizes))\n",
    "    "
   ]
  },
  {
   "cell_type": "code",
   "execution_count": null,
   "metadata": {
    "collapsed": true
   },
   "outputs": [],
   "source": []
  }
 ],
 "metadata": {
  "kernelspec": {
   "display_name": "Python 3",
   "language": "python",
   "name": "python3"
  },
  "language_info": {
   "codemirror_mode": {
    "name": "ipython",
    "version": 3
   },
   "file_extension": ".py",
   "mimetype": "text/x-python",
   "name": "python",
   "nbconvert_exporter": "python",
   "pygments_lexer": "ipython3",
   "version": "3.6.2"
  }
 },
 "nbformat": 4,
 "nbformat_minor": 2
}
