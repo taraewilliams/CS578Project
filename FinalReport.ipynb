{
 "cells": [
  {
   "cell_type": "code",
   "execution_count": 1,
   "metadata": {
    "collapsed": true
   },
   "outputs": [],
   "source": [
    "import numpy as np\n",
    "import matplotlib.pyplot as plt\n",
    "from sklearn import svm\n",
    "from sklearn.multiclass import OneVsRestClassifier\n",
    "import pandas as pd\n",
    "from sklearn.preprocessing import LabelBinarizer\n",
    "from Utils import *"
   ]
  },
  {
   "cell_type": "code",
   "execution_count": 2,
   "metadata": {
    "collapsed": true
   },
   "outputs": [],
   "source": [
    "random_state = 0"
   ]
  },
  {
   "cell_type": "markdown",
   "metadata": {},
   "source": [
    "# Load data"
   ]
  },
  {
   "cell_type": "code",
   "execution_count": 3,
   "metadata": {
    "collapsed": true
   },
   "outputs": [],
   "source": [
    "train_directory = 'CleanData/train_numerical.csv'\n",
    "test_directory = 'CleanData/group_validation.csv'"
   ]
  },
  {
   "cell_type": "code",
   "execution_count": 4,
   "metadata": {},
   "outputs": [
    {
     "data": {
      "text/html": [
       "<div>\n",
       "<style>\n",
       "    .dataframe thead tr:only-child th {\n",
       "        text-align: right;\n",
       "    }\n",
       "\n",
       "    .dataframe thead th {\n",
       "        text-align: left;\n",
       "    }\n",
       "\n",
       "    .dataframe tbody tr th {\n",
       "        vertical-align: top;\n",
       "    }\n",
       "</style>\n",
       "<table border=\"1\" class=\"dataframe\">\n",
       "  <thead>\n",
       "    <tr style=\"text-align: right;\">\n",
       "      <th></th>\n",
       "      <th>TripType</th>\n",
       "      <th>VisitNumber</th>\n",
       "      <th>Weekday</th>\n",
       "      <th>Upc</th>\n",
       "      <th>ScanCount</th>\n",
       "      <th>DepartmentDescription</th>\n",
       "      <th>FinelineNumber</th>\n",
       "    </tr>\n",
       "  </thead>\n",
       "  <tbody>\n",
       "    <tr>\n",
       "      <th>0</th>\n",
       "      <td>3</td>\n",
       "      <td>2492</td>\n",
       "      <td>3</td>\n",
       "      <td>6.811316e+10</td>\n",
       "      <td>4</td>\n",
       "      <td>1</td>\n",
       "      <td>275.0</td>\n",
       "    </tr>\n",
       "    <tr>\n",
       "      <th>1</th>\n",
       "      <td>3</td>\n",
       "      <td>2492</td>\n",
       "      <td>3</td>\n",
       "      <td>6.053890e+10</td>\n",
       "      <td>4</td>\n",
       "      <td>1</td>\n",
       "      <td>276.0</td>\n",
       "    </tr>\n",
       "    <tr>\n",
       "      <th>2</th>\n",
       "      <td>3</td>\n",
       "      <td>2349</td>\n",
       "      <td>3</td>\n",
       "      <td>7.993668e+10</td>\n",
       "      <td>1</td>\n",
       "      <td>8</td>\n",
       "      <td>2.0</td>\n",
       "    </tr>\n",
       "    <tr>\n",
       "      <th>3</th>\n",
       "      <td>3</td>\n",
       "      <td>2349</td>\n",
       "      <td>3</td>\n",
       "      <td>6.053880e+10</td>\n",
       "      <td>1</td>\n",
       "      <td>7</td>\n",
       "      <td>1001.0</td>\n",
       "    </tr>\n",
       "    <tr>\n",
       "      <th>4</th>\n",
       "      <td>3</td>\n",
       "      <td>2381</td>\n",
       "      <td>3</td>\n",
       "      <td>7.993666e+10</td>\n",
       "      <td>1</td>\n",
       "      <td>7</td>\n",
       "      <td>1749.0</td>\n",
       "    </tr>\n",
       "  </tbody>\n",
       "</table>\n",
       "</div>"
      ],
      "text/plain": [
       "   TripType  VisitNumber  Weekday           Upc  ScanCount  \\\n",
       "0         3         2492        3  6.811316e+10          4   \n",
       "1         3         2492        3  6.053890e+10          4   \n",
       "2         3         2349        3  7.993668e+10          1   \n",
       "3         3         2349        3  6.053880e+10          1   \n",
       "4         3         2381        3  7.993666e+10          1   \n",
       "\n",
       "   DepartmentDescription  FinelineNumber  \n",
       "0                      1           275.0  \n",
       "1                      1           276.0  \n",
       "2                      8             2.0  \n",
       "3                      7          1001.0  \n",
       "4                      7          1749.0  "
      ]
     },
     "execution_count": 4,
     "metadata": {},
     "output_type": "execute_result"
    }
   ],
   "source": [
    "train_data = pd.read_csv(train_directory)\n",
    "test_data = pd.read_csv(test_directory)\n",
    "train_data.head(5)"
   ]
  },
  {
   "cell_type": "code",
   "execution_count": 5,
   "metadata": {
    "collapsed": true
   },
   "outputs": [],
   "source": [
    "features = ['Weekday', 'ScanCount', 'DepartmentDescription', 'FinelineNumber', 'Upc']\n",
    "train = train_data[features].values\n",
    "train_label = train_data.TripType.values\n",
    "test = test_data[features].values\n",
    "test_label = test_data.TripType.values\n",
    "n_classes = np.unique(test_label)\n",
    "cv_train = np.vstack([train,test])\n",
    "cv_label = np.hstack([train_label, test_label])\n",
    "del train_data\n",
    "del test_data"
   ]
  },
  {
   "cell_type": "markdown",
   "metadata": {},
   "source": [
    "## Data Overview"
   ]
  },
  {
   "cell_type": "code",
   "execution_count": 6,
   "metadata": {},
   "outputs": [
    {
     "data": {
      "text/plain": [
       "(array([  3,   4,   5,   6,   7,   8,   9,  14,  15,  18,  19,  20,  21,\n",
       "         22,  23,  24,  25,  26,  27,  28,  29,  30,  31,  32,  33,  34,\n",
       "         35,  36,  37,  38,  39,  40,  41,  42,  43,  44, 999]),\n",
       " array([ 297,   30,  279,   80,  455,  526,  377,    8,  143,  114,   33,\n",
       "          67,  129,   64,   11,  437,  468,  117,  191,   36,   20,   78,\n",
       "          26,  164,  210,   55,  246,  366,  511,  542, 1586, 3131,  105,\n",
       "         324,  160,  225,  348]))"
      ]
     },
     "execution_count": 6,
     "metadata": {},
     "output_type": "execute_result"
    }
   ],
   "source": [
    "np.unique(train_label, return_counts=True)"
   ]
  },
  {
   "cell_type": "code",
   "execution_count": 7,
   "metadata": {},
   "outputs": [
    {
     "name": "stdout",
     "output_type": "stream",
     "text": [
      "(11959, 5)\n",
      "(4998, 5)\n"
     ]
    }
   ],
   "source": [
    "print(train.shape)\n",
    "print(test.shape)"
   ]
  },
  {
   "cell_type": "markdown",
   "metadata": {},
   "source": [
    "# Training"
   ]
  },
  {
   "cell_type": "code",
   "execution_count": 8,
   "metadata": {
    "collapsed": true
   },
   "outputs": [],
   "source": [
    "classifier = svm.SVC(kernel='rbf', decision_function_shape='ovr')"
   ]
  },
  {
   "cell_type": "code",
   "execution_count": 9,
   "metadata": {},
   "outputs": [
    {
     "data": {
      "text/plain": [
       "SVC(C=1.0, cache_size=200, class_weight=None, coef0=0.0,\n",
       "  decision_function_shape='ovr', degree=3, gamma='auto', kernel='rbf',\n",
       "  max_iter=-1, probability=False, random_state=None, shrinking=True,\n",
       "  tol=0.001, verbose=False)"
      ]
     },
     "execution_count": 9,
     "metadata": {},
     "output_type": "execute_result"
    }
   ],
   "source": [
    "classifier.fit(train, train_label)"
   ]
  },
  {
   "cell_type": "code",
   "execution_count": 10,
   "metadata": {},
   "outputs": [
    {
     "name": "stdout",
     "output_type": "stream",
     "text": [
      "Training accuracy = 0.773643281211\n",
      "Testing accuracy = 0.279711884754\n"
     ]
    }
   ],
   "source": [
    "train_accuracy = classifier.score(train, train_label)\n",
    "testing_accuracy = classifier.score(test, test_label)\n",
    "print('Training accuracy =', train_accuracy)\n",
    "print(\"Testing accuracy =\", testing_accuracy)"
   ]
  },
  {
   "cell_type": "markdown",
   "metadata": {},
   "source": [
    "## Cross Validation"
   ]
  },
  {
   "cell_type": "code",
   "execution_count": 11,
   "metadata": {
    "collapsed": true
   },
   "outputs": [],
   "source": [
    "combine_train = np.vstack([train, test])\n",
    "combine_label = np.hstack([train_label, test_label])"
   ]
  },
  {
   "cell_type": "code",
   "execution_count": 12,
   "metadata": {
    "collapsed": true
   },
   "outputs": [],
   "source": [
    "cv_result = crossValidation(combine_train, combine_label, classifier, 3)"
   ]
  },
  {
   "cell_type": "code",
   "execution_count": 13,
   "metadata": {},
   "outputs": [
    {
     "name": "stdout",
     "output_type": "stream",
     "text": [
      "The result for each fold is \n",
      " [[ 0.28556263]\n",
      " [ 0.29210899]\n",
      " [ 0.28940386]]\n",
      "The average result is  0.289025159008\n"
     ]
    }
   ],
   "source": [
    "print(\"The result for each fold is \\n\", cv_result)\n",
    "print(\"The average result is \", cv_result.mean())"
   ]
  },
  {
   "cell_type": "markdown",
   "metadata": {},
   "source": [
    "## Stratified Cross Validation"
   ]
  },
  {
   "cell_type": "code",
   "execution_count": 14,
   "metadata": {},
   "outputs": [
    {
     "name": "stdout",
     "output_type": "stream",
     "text": [
      "The result for each fold is \n",
      " [[ 0.28281637]\n",
      " [ 0.28163699]\n",
      " [ 0.29060031]]\n",
      "The average result is  0.285017887329\n"
     ]
    }
   ],
   "source": [
    "scv_result = scv(combine_train, combine_label, classifier, cv = 3)\n",
    "print(\"The result for each fold is \\n\", scv_result)\n",
    "print(\"The average result is \", scv_result.mean())"
   ]
  },
  {
   "cell_type": "markdown",
   "metadata": {},
   "source": [
    "# Grid Search on C and gamma"
   ]
  },
  {
   "cell_type": "code",
   "execution_count": 15,
   "metadata": {},
   "outputs": [],
   "source": [
    "c_options = [0.01, 0.05, 0.1, 0.5 , 1, 10]\n",
    "gamma_options = [1/5, 1/2, 1]\n",
    "num_options = len(c_options)\n",
    "numer_of_cv = 5\n",
    "search_result = np.zeros([num_options*3, numer_of_cv])"
   ]
  },
  {
   "cell_type": "code",
   "execution_count": null,
   "metadata": {},
   "outputs": [
    {
     "name": "stdout",
     "output_type": "stream",
     "text": [
      "Running on combo c=0.01, gamma=0.20, mean = 0.267735\n",
      "Running on combo c=0.01, gamma=0.50, mean = 0.267735\n",
      "Running on combo c=0.01, gamma=1.00, mean = 0.267736\n",
      "Running on combo c=0.05, gamma=0.20, mean = 0.280061\n",
      "Running on combo c=0.05, gamma=0.50, mean = 0.279590\n",
      "Running on combo c=0.05, gamma=1.00, mean = 0.277231\n",
      "Running on combo c=0.10, gamma=0.20, mean = 0.284485\n",
      "Running on combo c=0.10, gamma=0.50, mean = 0.282949\n",
      "Running on combo c=0.10, gamma=1.00, mean = 0.279827\n",
      "Running on combo c=0.50, gamma=0.20, mean = 0.292328\n",
      "Running on combo c=0.50, gamma=0.50, mean = 0.290264\n",
      "Running on combo c=0.50, gamma=1.00, mean = 0.287020\n",
      "Running on combo c=1.00, gamma=0.20, mean = 0.284779\n",
      "Running on combo c=1.00, gamma=0.50, mean = 0.283422\n",
      "Running on combo c=1.00, gamma=1.00, mean = 0.281182\n",
      "Running on combo c=10.00, gamma=0.20, mean = 0.271746\n",
      "Running on combo c=10.00, gamma=0.50, mean = 0.270272\n"
     ]
    }
   ],
   "source": [
    "for i in range(num_options):\n",
    "    for j in range(3):\n",
    "        clf = svm.SVC(C = c_options[i], gamma=gamma_options[j], kernel='rbf', decision_function_shape='ovr')\n",
    "        values = crossValidation(combine_train, combine_label, clf, numer_of_cv)\n",
    "        values = np.ravel(values)\n",
    "        search_result[i, :] = values\n",
    "        print('Running on combo c=%0.2f, gamma=%0.2f, mean = %f' % \n",
    "              ( c_options[i], gamma_options[j], values.mean()))"
   ]
  },
  {
   "cell_type": "code",
   "execution_count": null,
   "metadata": {
    "scrolled": true
   },
   "outputs": [],
   "source": [
    "opt = np.argmax(search_result.mean(axis = 1))\n",
    "opt_c = int(np.floor(float(opt)/num_options))\n",
    "opt_gamma = opt % num_options\n",
    "print('The best result is obtained with C  = %0.2f, gamma = %0.2f, mean = %0.2f, std = %f' % \n",
    "        (c_options[opt_c], gamma_options[opt_gamma], search_result[opt,:].mean(), search_result[opt,:].std()))"
   ]
  },
  {
   "cell_type": "markdown",
   "metadata": {},
   "source": [
    "## Confusion Matrix"
   ]
  },
  {
   "cell_type": "code",
   "execution_count": 58,
   "metadata": {},
   "outputs": [
    {
     "data": {
      "text/html": [
       "<div>\n",
       "<style>\n",
       "    .dataframe thead tr:only-child th {\n",
       "        text-align: right;\n",
       "    }\n",
       "\n",
       "    .dataframe thead th {\n",
       "        text-align: left;\n",
       "    }\n",
       "\n",
       "    .dataframe tbody tr th {\n",
       "        vertical-align: top;\n",
       "    }\n",
       "</style>\n",
       "<table border=\"1\" class=\"dataframe\">\n",
       "  <thead>\n",
       "    <tr style=\"text-align: right;\">\n",
       "      <th></th>\n",
       "      <th>3</th>\n",
       "      <th>4</th>\n",
       "      <th>5</th>\n",
       "      <th>6</th>\n",
       "      <th>7</th>\n",
       "      <th>8</th>\n",
       "      <th>9</th>\n",
       "      <th>15</th>\n",
       "      <th>18</th>\n",
       "      <th>19</th>\n",
       "      <th>...</th>\n",
       "      <th>36</th>\n",
       "      <th>37</th>\n",
       "      <th>38</th>\n",
       "      <th>39</th>\n",
       "      <th>40</th>\n",
       "      <th>41</th>\n",
       "      <th>42</th>\n",
       "      <th>43</th>\n",
       "      <th>44</th>\n",
       "      <th>999</th>\n",
       "    </tr>\n",
       "  </thead>\n",
       "  <tbody>\n",
       "    <tr>\n",
       "      <th>0</th>\n",
       "      <td>46.0</td>\n",
       "      <td>0.0</td>\n",
       "      <td>0.0</td>\n",
       "      <td>0.0</td>\n",
       "      <td>0.0</td>\n",
       "      <td>0.0</td>\n",
       "      <td>0.0</td>\n",
       "      <td>0.0</td>\n",
       "      <td>0.0</td>\n",
       "      <td>0.0</td>\n",
       "      <td>...</td>\n",
       "      <td>0.0</td>\n",
       "      <td>0.0</td>\n",
       "      <td>0.0</td>\n",
       "      <td>0.0</td>\n",
       "      <td>1.0</td>\n",
       "      <td>0.0</td>\n",
       "      <td>0.0</td>\n",
       "      <td>0.0</td>\n",
       "      <td>0.0</td>\n",
       "      <td>0.0</td>\n",
       "    </tr>\n",
       "    <tr>\n",
       "      <th>1</th>\n",
       "      <td>0.0</td>\n",
       "      <td>13.0</td>\n",
       "      <td>0.0</td>\n",
       "      <td>0.0</td>\n",
       "      <td>0.0</td>\n",
       "      <td>0.0</td>\n",
       "      <td>0.0</td>\n",
       "      <td>0.0</td>\n",
       "      <td>0.0</td>\n",
       "      <td>0.0</td>\n",
       "      <td>...</td>\n",
       "      <td>0.0</td>\n",
       "      <td>0.0</td>\n",
       "      <td>0.0</td>\n",
       "      <td>0.0</td>\n",
       "      <td>0.0</td>\n",
       "      <td>0.0</td>\n",
       "      <td>0.0</td>\n",
       "      <td>0.0</td>\n",
       "      <td>0.0</td>\n",
       "      <td>0.0</td>\n",
       "    </tr>\n",
       "    <tr>\n",
       "      <th>2</th>\n",
       "      <td>0.0</td>\n",
       "      <td>0.0</td>\n",
       "      <td>14.0</td>\n",
       "      <td>0.0</td>\n",
       "      <td>0.0</td>\n",
       "      <td>3.0</td>\n",
       "      <td>0.0</td>\n",
       "      <td>0.0</td>\n",
       "      <td>0.0</td>\n",
       "      <td>0.0</td>\n",
       "      <td>...</td>\n",
       "      <td>0.0</td>\n",
       "      <td>0.0</td>\n",
       "      <td>0.0</td>\n",
       "      <td>0.0</td>\n",
       "      <td>1.0</td>\n",
       "      <td>0.0</td>\n",
       "      <td>0.0</td>\n",
       "      <td>0.0</td>\n",
       "      <td>0.0</td>\n",
       "      <td>0.0</td>\n",
       "    </tr>\n",
       "    <tr>\n",
       "      <th>3</th>\n",
       "      <td>0.0</td>\n",
       "      <td>0.0</td>\n",
       "      <td>0.0</td>\n",
       "      <td>6.0</td>\n",
       "      <td>0.0</td>\n",
       "      <td>1.0</td>\n",
       "      <td>0.0</td>\n",
       "      <td>1.0</td>\n",
       "      <td>0.0</td>\n",
       "      <td>0.0</td>\n",
       "      <td>...</td>\n",
       "      <td>0.0</td>\n",
       "      <td>0.0</td>\n",
       "      <td>1.0</td>\n",
       "      <td>0.0</td>\n",
       "      <td>2.0</td>\n",
       "      <td>0.0</td>\n",
       "      <td>0.0</td>\n",
       "      <td>0.0</td>\n",
       "      <td>0.0</td>\n",
       "      <td>0.0</td>\n",
       "    </tr>\n",
       "    <tr>\n",
       "      <th>4</th>\n",
       "      <td>0.0</td>\n",
       "      <td>0.0</td>\n",
       "      <td>0.0</td>\n",
       "      <td>0.0</td>\n",
       "      <td>28.0</td>\n",
       "      <td>2.0</td>\n",
       "      <td>0.0</td>\n",
       "      <td>0.0</td>\n",
       "      <td>0.0</td>\n",
       "      <td>0.0</td>\n",
       "      <td>...</td>\n",
       "      <td>0.0</td>\n",
       "      <td>0.0</td>\n",
       "      <td>2.0</td>\n",
       "      <td>2.0</td>\n",
       "      <td>3.0</td>\n",
       "      <td>0.0</td>\n",
       "      <td>0.0</td>\n",
       "      <td>0.0</td>\n",
       "      <td>0.0</td>\n",
       "      <td>0.0</td>\n",
       "    </tr>\n",
       "    <tr>\n",
       "      <th>5</th>\n",
       "      <td>0.0</td>\n",
       "      <td>0.0</td>\n",
       "      <td>1.0</td>\n",
       "      <td>0.0</td>\n",
       "      <td>0.0</td>\n",
       "      <td>83.0</td>\n",
       "      <td>0.0</td>\n",
       "      <td>0.0</td>\n",
       "      <td>0.0</td>\n",
       "      <td>0.0</td>\n",
       "      <td>...</td>\n",
       "      <td>0.0</td>\n",
       "      <td>1.0</td>\n",
       "      <td>0.0</td>\n",
       "      <td>10.0</td>\n",
       "      <td>19.0</td>\n",
       "      <td>0.0</td>\n",
       "      <td>0.0</td>\n",
       "      <td>0.0</td>\n",
       "      <td>0.0</td>\n",
       "      <td>0.0</td>\n",
       "    </tr>\n",
       "    <tr>\n",
       "      <th>6</th>\n",
       "      <td>0.0</td>\n",
       "      <td>0.0</td>\n",
       "      <td>0.0</td>\n",
       "      <td>0.0</td>\n",
       "      <td>0.0</td>\n",
       "      <td>1.0</td>\n",
       "      <td>53.0</td>\n",
       "      <td>0.0</td>\n",
       "      <td>0.0</td>\n",
       "      <td>0.0</td>\n",
       "      <td>...</td>\n",
       "      <td>0.0</td>\n",
       "      <td>0.0</td>\n",
       "      <td>0.0</td>\n",
       "      <td>1.0</td>\n",
       "      <td>2.0</td>\n",
       "      <td>0.0</td>\n",
       "      <td>0.0</td>\n",
       "      <td>0.0</td>\n",
       "      <td>0.0</td>\n",
       "      <td>0.0</td>\n",
       "    </tr>\n",
       "    <tr>\n",
       "      <th>7</th>\n",
       "      <td>0.0</td>\n",
       "      <td>0.0</td>\n",
       "      <td>0.0</td>\n",
       "      <td>0.0</td>\n",
       "      <td>1.0</td>\n",
       "      <td>0.0</td>\n",
       "      <td>0.0</td>\n",
       "      <td>9.0</td>\n",
       "      <td>0.0</td>\n",
       "      <td>0.0</td>\n",
       "      <td>...</td>\n",
       "      <td>0.0</td>\n",
       "      <td>0.0</td>\n",
       "      <td>1.0</td>\n",
       "      <td>3.0</td>\n",
       "      <td>4.0</td>\n",
       "      <td>0.0</td>\n",
       "      <td>0.0</td>\n",
       "      <td>0.0</td>\n",
       "      <td>0.0</td>\n",
       "      <td>0.0</td>\n",
       "    </tr>\n",
       "  </tbody>\n",
       "</table>\n",
       "<p>8 rows × 36 columns</p>\n",
       "</div>"
      ],
      "text/plain": [
       "    3     4     5    6     7     8     9    15   18   19  ...   36   37   38   \\\n",
       "0  46.0   0.0   0.0  0.0   0.0   0.0   0.0  0.0  0.0  0.0 ...   0.0  0.0  0.0   \n",
       "1   0.0  13.0   0.0  0.0   0.0   0.0   0.0  0.0  0.0  0.0 ...   0.0  0.0  0.0   \n",
       "2   0.0   0.0  14.0  0.0   0.0   3.0   0.0  0.0  0.0  0.0 ...   0.0  0.0  0.0   \n",
       "3   0.0   0.0   0.0  6.0   0.0   1.0   0.0  1.0  0.0  0.0 ...   0.0  0.0  1.0   \n",
       "4   0.0   0.0   0.0  0.0  28.0   2.0   0.0  0.0  0.0  0.0 ...   0.0  0.0  2.0   \n",
       "5   0.0   0.0   1.0  0.0   0.0  83.0   0.0  0.0  0.0  0.0 ...   0.0  1.0  0.0   \n",
       "6   0.0   0.0   0.0  0.0   0.0   1.0  53.0  0.0  0.0  0.0 ...   0.0  0.0  0.0   \n",
       "7   0.0   0.0   0.0  0.0   1.0   0.0   0.0  9.0  0.0  0.0 ...   0.0  0.0  1.0   \n",
       "\n",
       "    39    40   41   42   43   44   999  \n",
       "0   0.0   1.0  0.0  0.0  0.0  0.0  0.0  \n",
       "1   0.0   0.0  0.0  0.0  0.0  0.0  0.0  \n",
       "2   0.0   1.0  0.0  0.0  0.0  0.0  0.0  \n",
       "3   0.0   2.0  0.0  0.0  0.0  0.0  0.0  \n",
       "4   2.0   3.0  0.0  0.0  0.0  0.0  0.0  \n",
       "5  10.0  19.0  0.0  0.0  0.0  0.0  0.0  \n",
       "6   1.0   2.0  0.0  0.0  0.0  0.0  0.0  \n",
       "7   3.0   4.0  0.0  0.0  0.0  0.0  0.0  \n",
       "\n",
       "[8 rows x 36 columns]"
      ]
     },
     "execution_count": 58,
     "metadata": {},
     "output_type": "execute_result"
    }
   ],
   "source": [
    "confusion_mat = confusion_matrix(pred, test_label, np.unique(train_label).tolist())\n",
    "confusion = pd.DataFrame(confusion_mat)\n",
    "confusion.columns = np.unique(train_label)\n",
    "confusion.head(8)"
   ]
  },
  {
   "cell_type": "markdown",
   "metadata": {},
   "source": [
    "## Micro ROC Curve"
   ]
  },
  {
   "cell_type": "code",
   "execution_count": 67,
   "metadata": {
    "collapsed": true
   },
   "outputs": [],
   "source": [
    "y_score = classifier.decision_function(test)\n",
    "lb = LabelBinarizer()\n",
    "new_test_label = lb.fit(train_label).transform(test_label)\n",
    "fpr, tpr = roc_curve(new_test_label.ravel(), y_score.ravel())"
   ]
  },
  {
   "cell_type": "code",
   "execution_count": 68,
   "metadata": {},
   "outputs": [
    {
     "data": {
      "image/png": "[encoded data removed]",
      "text/plain": [
       "<matplotlib.figure.Figure at 0x11995f5c0>"
      ]
     },
     "metadata": {},
     "output_type": "display_data"
    }
   ],
   "source": [
    "roc_auc = auc(fpr, tpr)\n",
    "plt.figure()\n",
    "lw = 2\n",
    "plt.plot(fpr, tpr, color='darkorange',\n",
    "         lw=lw, label='ROC curve (area = %0.2f)' % roc_auc)\n",
    "plt.plot([0, 1], [0, 1], color='navy', lw=lw, linestyle='--')\n",
    "plt.xlim([0.0, 1.0])\n",
    "plt.ylim([0.0, 1.05])\n",
    "plt.xlabel('False Positive Rate')\n",
    "plt.ylabel('True Positive Rate')\n",
    "plt.title('Receiver operating characteristic')\n",
    "plt.legend(loc=\"lower right\")\n",
    "plt.show()"
   ]
  },
  {
   "cell_type": "code",
   "execution_count": null,
   "metadata": {
    "collapsed": true
   },
   "outputs": [],
   "source": []
  }
 ],
 "metadata": {
  "kernelspec": {
   "display_name": "Python 3",
   "language": "python",
   "name": "python3"
  },
  "language_info": {
   "codemirror_mode": {
    "name": "ipython",
    "version": 3
   },
   "file_extension": ".py",
   "mimetype": "text/x-python",
   "name": "python",
   "nbconvert_exporter": "python",
   "pygments_lexer": "ipython3",
   "version": "3.6.1"
  }
 },
 "nbformat": 4,
 "nbformat_minor": 2
}
